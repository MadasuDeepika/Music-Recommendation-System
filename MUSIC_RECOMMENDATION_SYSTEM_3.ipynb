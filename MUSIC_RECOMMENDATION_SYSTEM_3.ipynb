{
  "nbformat": 4,
  "nbformat_minor": 0,
  "metadata": {
    "colab": {
      "name": "MUSIC_RECOMMENDATION_SYSTEM 3.ipynb",
      "provenance": [],
      "collapsed_sections": []
    },
    "kernelspec": {
      "name": "python3",
      "display_name": "Python 3"
    },
    "language_info": {
      "name": "python"
    }
  },
  "cells": [
    {
      "cell_type": "markdown",
      "source": [
        "# REVIEW 3 - big data framework"
      ],
      "metadata": {
        "id": "xVbyZiI1wkdY"
      }
    },
    {
      "cell_type": "code",
      "source": [
        "from google.colab import drive\n",
        "drive.mount('/content/drive')"
      ],
      "metadata": {
        "colab": {
          "base_uri": "https://localhost:8080/"
        },
        "id": "RhSZ1l3F1-aH",
        "outputId": "0f808ceb-8d62-4aa5-a10e-07a1665df7a0"
      },
      "execution_count": null,
      "outputs": [
        {
          "output_type": "stream",
          "name": "stdout",
          "text": [
            "Drive already mounted at /content/drive; to attempt to forcibly remount, call drive.mount(\"/content/drive\", force_remount=True).\n"
          ]
        }
      ]
    },
    {
      "cell_type": "markdown",
      "source": [
        "**As we are going to do in pyspark and findspark environment we are installing it.**"
      ],
      "metadata": {
        "id": "32Y8qzXA898K"
      }
    },
    {
      "cell_type": "code",
      "source": [
        "!pip install pyspark"
      ],
      "metadata": {
        "colab": {
          "base_uri": "https://localhost:8080/"
        },
        "id": "2NeOuEszwl64",
        "outputId": "bcbb355a-7697-4199-9f02-5231d702d313"
      },
      "execution_count": null,
      "outputs": [
        {
          "output_type": "stream",
          "name": "stdout",
          "text": [
            "Collecting pyspark\n",
            "  Downloading pyspark-3.2.1.tar.gz (281.4 MB)\n",
            "\u001b[K     |████████████████████████████████| 281.4 MB 32 kB/s \n",
            "\u001b[?25hCollecting py4j==0.10.9.3\n",
            "  Downloading py4j-0.10.9.3-py2.py3-none-any.whl (198 kB)\n",
            "\u001b[K     |████████████████████████████████| 198 kB 43.3 MB/s \n",
            "\u001b[?25hBuilding wheels for collected packages: pyspark\n",
            "  Building wheel for pyspark (setup.py) ... \u001b[?25l\u001b[?25hdone\n",
            "  Created wheel for pyspark: filename=pyspark-3.2.1-py2.py3-none-any.whl size=281853642 sha256=d989981ea441026b4063c01bd18f703da1d1b2ba6284efd12401200f507bbf4d\n",
            "  Stored in directory: /root/.cache/pip/wheels/9f/f5/07/7cd8017084dce4e93e84e92efd1e1d5334db05f2e83bcef74f\n",
            "Successfully built pyspark\n",
            "Installing collected packages: py4j, pyspark\n",
            "Successfully installed py4j-0.10.9.3 pyspark-3.2.1\n"
          ]
        }
      ]
    },
    {
      "cell_type": "code",
      "source": [
        "!pip install findspark"
      ],
      "metadata": {
        "colab": {
          "base_uri": "https://localhost:8080/"
        },
        "id": "Nxu-LET8wych",
        "outputId": "60701628-1a21-447a-defe-03ab6d0b0d52"
      },
      "execution_count": null,
      "outputs": [
        {
          "output_type": "stream",
          "name": "stdout",
          "text": [
            "Collecting findspark\n",
            "  Downloading findspark-2.0.1-py2.py3-none-any.whl (4.4 kB)\n",
            "Installing collected packages: findspark\n",
            "Successfully installed findspark-2.0.1\n"
          ]
        }
      ]
    },
    {
      "cell_type": "code",
      "source": [
        "import os\n",
        "import sys\n",
        "import re\n",
        "import random\n",
        "import pyspark\n",
        "from pyspark import SparkContext\n",
        "from pyspark.sql import SQLContext\n",
        "from pyspark.sql.types import *\n",
        "from pyspark.sql import Row\n",
        "from pyspark.sql.functions import *\n",
        "\n",
        "%matplotlib inline\n",
        "import matplotlib.pyplot as plt\n",
        "import pandas as pd\n",
        "import numpy as np\n",
        "from time import time\n",
        "import findspark\n",
        "findspark.init()\n",
        "findspark.find()\n",
        "import pyspark\n",
        "findspark.find()\n",
        "from pyspark import SparkContext, SparkConf\n",
        "from pyspark.sql import SparkSession\n",
        "conf = pyspark.SparkConf().setAppName('appName').setMaster('local')\n",
        "sc = pyspark.SparkContext(conf=conf)\n",
        "spark = SparkSession(sc)\n",
        "\n",
        "sqlContext = SQLContext(sc)\n",
        "# Base directory path"
      ],
      "metadata": {
        "colab": {
          "base_uri": "https://localhost:8080/"
        },
        "id": "3EhbrYEuw5fn",
        "outputId": "e4e1dda2-bb44-410d-95e7-f9ded10fe715"
      },
      "execution_count": null,
      "outputs": [
        {
          "output_type": "stream",
          "name": "stderr",
          "text": [
            "/usr/local/lib/python3.7/dist-packages/pyspark/sql/context.py:79: FutureWarning: Deprecated in 3.0.0. Use SparkSession.builder.getOrCreate() instead.\n",
            "  FutureWarning\n"
          ]
        }
      ]
    },
    {
      "cell_type": "code",
      "source": [
        "base = \"/content/drive/MyDrive/user_artist_data_small1.txt\""
      ],
      "metadata": {
        "id": "jyYXhERtxGwP"
      },
      "execution_count": null,
      "outputs": []
    },
    {
      "cell_type": "code",
      "source": [
        "userArtistDataSchema = StructType([ \\\n",
        "    StructField(\"userID\", LongType(), True), \\\n",
        "    StructField(\"artistID\", LongType(), True), \\\n",
        "    StructField(\"playCount\", IntegerType(), True)])\n",
        "\n",
        "userArtistDF = sqlContext.read \\\n",
        "    .format('com.databricks.spark.csv') \\\n",
        "    .options(header='false', delimiter=' ') \\\n",
        "    .load(base , schema = userArtistDataSchema) \\\n",
        "    .cache()"
      ],
      "metadata": {
        "id": "EBhXCCINzCvS"
      },
      "execution_count": null,
      "outputs": []
    },
    {
      "cell_type": "code",
      "source": [
        "userArtistDF.cache()\n",
        "userArtistDF.show()"
      ],
      "metadata": {
        "colab": {
          "base_uri": "https://localhost:8080/"
        },
        "id": "jkWt7ozuzXpP",
        "outputId": "9398e2ef-3423-48fe-89f1-911335c75a92"
      },
      "execution_count": null,
      "outputs": [
        {
          "output_type": "stream",
          "name": "stdout",
          "text": [
            "+-------+--------+---------+\n",
            "| userID|artistID|playCount|\n",
            "+-------+--------+---------+\n",
            "|1059637| 1000010|      238|\n",
            "|1059637| 1000049|        1|\n",
            "|1059637| 1000056|        1|\n",
            "|1059637| 1000062|       11|\n",
            "|1059637| 1000094|        1|\n",
            "|1059637| 1000112|      423|\n",
            "|1059637| 1000113|        5|\n",
            "|1059637| 1000114|        2|\n",
            "|1059637| 1000123|        2|\n",
            "|1059637| 1000130|    19129|\n",
            "|1059637| 1000139|        4|\n",
            "|1059637| 1000241|      188|\n",
            "|1059637| 1000263|      180|\n",
            "|1059637| 1000289|        2|\n",
            "|1059637| 1000305|        1|\n",
            "|1059637| 1000320|       21|\n",
            "|1059637| 1000340|        1|\n",
            "|1059637| 1000427|       20|\n",
            "|1059637| 1000428|       12|\n",
            "|1059637| 1000433|       10|\n",
            "+-------+--------+---------+\n",
            "only showing top 20 rows\n",
            "\n"
          ]
        }
      ]
    },
    {
      "cell_type": "code",
      "source": [
        "allusers = userArtistDF.count()\n",
        "print(\"All rows in database: \", allusers )\n",
        "uniqueUsers = userArtistDF.select('userID').distinct().count()\n",
        "print(\"Total n. of distinct users: \", uniqueUsers)"
      ],
      "metadata": {
        "colab": {
          "base_uri": "https://localhost:8080/"
        },
        "id": "VvIRqLOmzbYi",
        "outputId": "e1233962-882d-4c14-88c8-6ba7bac64869"
      },
      "execution_count": null,
      "outputs": [
        {
          "output_type": "stream",
          "name": "stdout",
          "text": [
            "All rows in database:  49981\n",
            "Total n. of distinct users:  50\n"
          ]
        }
      ]
    },
    {
      "cell_type": "code",
      "source": [
        "uniqueArtists = userArtistDF.select('artistID').distinct().count()\n",
        "print(\"Total n. of artists: \", uniqueArtists)"
      ],
      "metadata": {
        "colab": {
          "base_uri": "https://localhost:8080/"
        },
        "id": "dSRP_r5VzeJD",
        "outputId": "bb7f0df0-a5cb-4810-86f7-8aaa79c85c87"
      },
      "execution_count": null,
      "outputs": [
        {
          "output_type": "stream",
          "name": "stdout",
          "text": [
            "Total n. of artists:  30677\n"
          ]
        }
      ]
    },
    {
      "cell_type": "code",
      "source": [
        "MAX_VALUE = 2147483647\n",
        "#showing the IDs which are invalid\n",
        "userArtistDF[(userArtistDF.userID.cast(\"int\") < 0)].show()\n",
        "userArtistDF[(userArtistDF.userID.cast(\"int\") > MAX_VALUE)].show()\n",
        "# We don't see any invalid userID\n",
        "userArtistDF.select(\"userID\").describe().show()"
      ],
      "metadata": {
        "colab": {
          "base_uri": "https://localhost:8080/"
        },
        "id": "xKEfNK4-zfsh",
        "outputId": "c369ea88-783d-4d78-fc04-2d5145cfb498"
      },
      "execution_count": null,
      "outputs": [
        {
          "output_type": "stream",
          "name": "stdout",
          "text": [
            "+------+--------+---------+\n",
            "|userID|artistID|playCount|\n",
            "+------+--------+---------+\n",
            "+------+--------+---------+\n",
            "\n",
            "+------+--------+---------+\n",
            "|userID|artistID|playCount|\n",
            "+------+--------+---------+\n",
            "+------+--------+---------+\n",
            "\n",
            "+-------+-----------------+\n",
            "|summary|           userID|\n",
            "+-------+-----------------+\n",
            "|  count|            49981|\n",
            "|   mean|1328573.598287349|\n",
            "| stddev|452997.5191808399|\n",
            "|    min|          1000647|\n",
            "|    max|          2288164|\n",
            "+-------+-----------------+\n",
            "\n"
          ]
        }
      ]
    },
    {
      "cell_type": "code",
      "source": [
        "userActivity = userArtistDF.groupBy('userID').sum('playCount').collect()\n",
        "print(userActivity[0:5])\n",
        "len(userActivity)"
      ],
      "metadata": {
        "colab": {
          "base_uri": "https://localhost:8080/"
        },
        "id": "yTIO323ozsBz",
        "outputId": "b6b84718-1650-444f-a49b-51f747774ad9"
      },
      "execution_count": null,
      "outputs": [
        {
          "output_type": "stream",
          "name": "stdout",
          "text": [
            "[Row(userID=2010008, sum(playCount)=77724), Row(userID=2020513, sum(playCount)=165642), Row(userID=1055449, sum(playCount)=73484), Row(userID=1058890, sum(playCount)=98477), Row(userID=1041919, sum(playCount)=73029)]\n"
          ]
        },
        {
          "output_type": "execute_result",
          "data": {
            "text/plain": [
              "50"
            ]
          },
          "metadata": {},
          "execution_count": 12
        }
      ]
    },
    {
      "cell_type": "code",
      "source": [
        "pdf = pd.DataFrame(data=userActivity)\n",
        "Y=np.sort( pdf[1] )\n",
        "yvals=np.arange(len(Y))/float(len(Y))\n",
        "\n",
        "print(np.arange(len(Y)))\n",
        "\n",
        "plt.semilogx( Y, yvals )\n",
        "plt.xlabel('Play Counts')\n",
        "plt.ylabel('ECDF')\n",
        "plt.grid(True,which=\"both\",ls=\"-\")\n",
        "plt.title('ECDF of number of play counts per User ID')\n",
        "plt.show()"
      ],
      "metadata": {
        "colab": {
          "base_uri": "https://localhost:8080/",
          "height": 351
        },
        "id": "qMXgDrYpz1eC",
        "outputId": "e8ab7456-ea49-4fc9-c9bd-223e59208dda"
      },
      "execution_count": null,
      "outputs": [
        {
          "output_type": "stream",
          "name": "stdout",
          "text": [
            "[ 0  1  2  3  4  5  6  7  8  9 10 11 12 13 14 15 16 17 18 19 20 21 22 23\n",
            " 24 25 26 27 28 29 30 31 32 33 34 35 36 37 38 39 40 41 42 43 44 45 46 47\n",
            " 48 49]\n"
          ]
        },
        {
          "output_type": "display_data",
          "data": {
            "text/plain": [
              "<Figure size 432x288 with 1 Axes>"
            ],
            "image/png": "[encoded data removed]"
          },
          "metadata": {
            "needs_background": "light"
          }
        }
      ]
    },
    {
      "cell_type": "code",
      "source": [
        "print ('Total =', Y.sum())\n",
        "print ('Mean =', Y.mean())\n",
        "print ('Min =', Y.min())\n",
        "print ('Max =', Y.max())"
      ],
      "metadata": {
        "colab": {
          "base_uri": "https://localhost:8080/"
        },
        "id": "-HIJZKzBz6YE",
        "outputId": "13d93525-7413-4a3e-a445-60dd96e77396"
      },
      "execution_count": null,
      "outputs": [
        {
          "output_type": "stream",
          "name": "stdout",
          "text": [
            "Total = 7914123\n",
            "Mean = 158282.46\n",
            "Min = 72855\n",
            "Max = 1348824\n"
          ]
        }
      ]
    },
    {
      "cell_type": "code",
      "source": [
        "#important percentiles (25%, median, 75%, tails such as >90%)\n",
        "print('Percentile 25% :' + str(np.percentile(Y,25)))\n",
        "print('Percentile 50% :' + str(np.percentile(Y,50)))\n",
        "print('Percentile 75% :' + str(np.percentile(Y,75)))\n",
        "print('Percentile 90% :' + str(np.percentile(Y,90)))\n",
        "print('Percentile 95% :' + str(np.percentile(Y,95)))\n",
        "print('Percentile 99% :' + str(np.percentile(Y,99)))"
      ],
      "metadata": {
        "colab": {
          "base_uri": "https://localhost:8080/"
        },
        "id": "QfN00voSz8lP",
        "outputId": "ee43693f-3332-4dfb-c5d7-712c2b2a4ad4"
      },
      "execution_count": null,
      "outputs": [
        {
          "output_type": "stream",
          "name": "stdout",
          "text": [
            "Percentile 25% :76217.5\n",
            "Percentile 50% :82881.0\n",
            "Percentile 75% :134957.5\n",
            "Percentile 90% :176637.0\n",
            "Percentile 95% :471767.99999999907\n",
            "Percentile 99% :1225358.6999999995\n"
          ]
        }
      ]
    },
    {
      "cell_type": "code",
      "source": [
        "artistPopularity = userArtistDF.groupBy('artistID').sum('playCount').collect()\n",
        "print(artistPopularity[0:5]) \n",
        "len(artistPopularity)"
      ],
      "metadata": {
        "colab": {
          "base_uri": "https://localhost:8080/"
        },
        "id": "CMgf3mHU0Z6v",
        "outputId": "418e640e-1876-47bb-ad03-ad2a98f3e31e"
      },
      "execution_count": null,
      "outputs": [
        {
          "output_type": "stream",
          "name": "stdout",
          "text": [
            "[Row(artistID=1001530, sum(playCount)=17962), Row(artistID=1002734, sum(playCount)=1156), Row(artistID=1191501, sum(playCount)=5), Row(artistID=5409, sum(playCount)=8095), Row(artistID=1184419, sum(playCount)=1)]\n"
          ]
        },
        {
          "output_type": "execute_result",
          "data": {
            "text/plain": [
              "30677"
            ]
          },
          "metadata": {},
          "execution_count": 16
        }
      ]
    },
    {
      "cell_type": "code",
      "source": [
        "pdf1 = pd.DataFrame(data=artistPopularity)\n",
        "Y1=np.sort( pdf1[1] )\n",
        "yvals1=np.arange(len(Y1))/float(len(Y1))\n",
        "print(np.arange(len(Y1)))\n",
        "plt.semilogx( Y1, yvals1 )\n",
        "plt.xlabel('Play Counts')\n",
        "plt.ylabel('ECDF')\n",
        "plt.grid(True,which=\"both\",ls=\"-\")\n",
        "plt.title('ECDF of number of play counts per artist ID')\n",
        "plt.show()"
      ],
      "metadata": {
        "colab": {
          "base_uri": "https://localhost:8080/",
          "height": 316
        },
        "id": "1gxKK6aB0d2c",
        "outputId": "2c6ae826-1ee3-4a7d-e365-3d9b8df7e195"
      },
      "execution_count": null,
      "outputs": [
        {
          "output_type": "stream",
          "name": "stdout",
          "text": [
            "[    0     1     2 ... 30674 30675 30676]\n"
          ]
        },
        {
          "output_type": "display_data",
          "data": {
            "text/plain": [
              "<Figure size 432x288 with 1 Axes>"
            ],
            "image/png": "[encoded data removed]"
          },
          "metadata": {
            "needs_background": "light"
          }
        }
      ]
    },
    {
      "cell_type": "code",
      "source": [
        "print ('Sum =', Y1.sum())\n",
        "print ('Mean =', Y1.mean())\n",
        "print ('Min =', Y1.min())\n",
        "print ('Max =', Y1.max())\n",
        "print ('Top 5 play counts:', Y1[len(Y1)-5:len(Y1)])\n",
        "print ('Sum top 5 artist play counts:', Y1[len(Y1)-5:len(Y1)].sum())\n",
        "print ('Percentage of top 5 artist play counts:', Y1[len(Y1)-5:len(Y1)].sum()/Y1.sum())\n",
        "print ('P(playCount<=10) =', len(Y1[Y1<=10])/len(Y1))\n",
        "print ('P(playCount<=1000) =', len(Y1[Y1<=1000])/len(Y1))"
      ],
      "metadata": {
        "colab": {
          "base_uri": "https://localhost:8080/"
        },
        "id": "G-dpHBau0gwz",
        "outputId": "b5da5134-a8ac-4727-eb20-306b9ff902c2"
      },
      "execution_count": null,
      "outputs": [
        {
          "output_type": "stream",
          "name": "stdout",
          "text": [
            "Sum = 7914123\n",
            "Mean = 257.9822994425791\n",
            "Min = 1\n",
            "Max = 972991\n",
            "Top 5 play counts: [ 71994  97804 319323 881413 972991]\n",
            "Sum top 5 artist play counts: 2343525\n",
            "Percentage of top 5 artist play counts: 0.2961193552336753\n",
            "P(playCount<=10) = 0.5857482804707109\n",
            "P(playCount<=1000) = 0.9697819213091241\n"
          ]
        }
      ]
    },
    {
      "cell_type": "code",
      "source": [
        "sortedArtist = sorted(artistPopularity, key = lambda x: -x[1])[:5]\n",
        "\n",
        "artistID = [w[0] for w in sortedArtist]\n",
        "\n",
        "y_pos = range(len(sortedArtist))\n",
        "frequency = [w[1] for w in sortedArtist]\n",
        "\n",
        "plt.barh(y_pos, frequency[::-1], align='center', alpha=0.4)\n",
        "plt.yticks(y_pos, artistID[::-1])\n",
        "plt.xlabel('Play Count')\n",
        "plt.ylabel('Artist')\n",
        "plt.title('Top-5 Artist ID per play counts')\n",
        "plt.show()"
      ],
      "metadata": {
        "colab": {
          "base_uri": "https://localhost:8080/",
          "height": 295
        },
        "id": "VT-yvACD0jpB",
        "outputId": "bf6b0d3a-e2dc-495d-fc79-740af642ed83"
      },
      "execution_count": null,
      "outputs": [
        {
          "output_type": "display_data",
          "data": {
            "text/plain": [
              "<Figure size 432x288 with 1 Axes>"
            ],
            "image/png": "[encoded data removed]"
          },
          "metadata": {
            "needs_background": "light"
          }
        }
      ]
    },
    {
      "cell_type": "code",
      "source": [
        "base=\"/content/drive/MyDrive/artist_data_small1.txt\""
      ],
      "metadata": {
        "id": "lrzvleCm0waK"
      },
      "execution_count": null,
      "outputs": []
    },
    {
      "cell_type": "code",
      "source": [
        "customSchemaArtist = StructType([ \\\n",
        "    StructField(\"artistID\", LongType(), True), \\\n",
        "    StructField(\"name\", StringType(), True)])\n",
        "\n",
        "artistDF = sqlContext.read \\\n",
        "    .format('com.databricks.spark.csv') \\\n",
        "    .options(header='false', delimiter='\\t', mode='DROPMALFORMED') \\\n",
        "    .load(base , schema = customSchemaArtist) \\\n",
        "    .cache()\n",
        "artistDF.show(5)"
      ],
      "metadata": {
        "colab": {
          "base_uri": "https://localhost:8080/"
        },
        "id": "qJwU7_Ht04ut",
        "outputId": "629b4632-f407-47b6-ff85-54fb9b124b67"
      },
      "execution_count": null,
      "outputs": [
        {
          "output_type": "stream",
          "name": "stdout",
          "text": [
            "+--------+--------------------+\n",
            "|artistID|                name|\n",
            "+--------+--------------------+\n",
            "| 1240105|        André Visior|\n",
            "| 1240113|           riow arai|\n",
            "| 1240132|Outkast & Rage Ag...|\n",
            "| 6776115|            小松正夫|\n",
            "| 1030848|      Raver's Nature|\n",
            "+--------+--------------------+\n",
            "only showing top 5 rows\n",
            "\n"
          ]
        }
      ]
    },
    {
      "cell_type": "code",
      "source": [
        "artistDF[locate(\"Aerosmith\", artistDF.name) > 0].show(10000, False)\n",
        "artistDF[artistDF.artistID==1027859].show()\n",
        "artistDF[artistDF.artistID==1252408].show()"
      ],
      "metadata": {
        "colab": {
          "base_uri": "https://localhost:8080/"
        },
        "id": "0aJXXcP707wM",
        "outputId": "65aa9b86-af96-458c-fecc-95f8920fb819"
      },
      "execution_count": null,
      "outputs": [
        {
          "output_type": "stream",
          "name": "stdout",
          "text": [
            "+--------+---------+\n",
            "|artistID|name     |\n",
            "+--------+---------+\n",
            "|1000010 |Aerosmith|\n",
            "+--------+---------+\n",
            "\n",
            "+--------+--------------------+\n",
            "|artistID|                name|\n",
            "+--------+--------------------+\n",
            "| 1027859|Trevor Jones and ...|\n",
            "+--------+--------------------+\n",
            "\n",
            "+--------+--------------------+\n",
            "|artistID|                name|\n",
            "+--------+--------------------+\n",
            "| 1252408|Trevor Jones & Ra...|\n",
            "+--------+--------------------+\n",
            "\n"
          ]
        }
      ]
    },
    {
      "cell_type": "code",
      "source": [
        "base=\"/content/drive/MyDrive/artist_alias_small1.txt\""
      ],
      "metadata": {
        "id": "RtLKRMsT1ABk"
      },
      "execution_count": null,
      "outputs": []
    },
    {
      "cell_type": "code",
      "source": [
        "customSchemaArtistAlias = StructType([ \\\n",
        "    StructField(\"mispelledID\", LongType(), True), \\\n",
        "    StructField(\"standardID\", LongType(), True)])\n",
        "\n",
        "artistAliasDF = sqlContext.read \\\n",
        "    .format('com.databricks.spark.csv') \\\n",
        "    .options(header='false', delimiter='\\t', mode='DROPMALFORMED') \\\n",
        "    .load(base , schema = customSchemaArtistAlias) \\\n",
        "    .cache()\n",
        "\n",
        "artistAliasDF.show(5)"
      ],
      "metadata": {
        "colab": {
          "base_uri": "https://localhost:8080/"
        },
        "id": "5BFVedsD2eim",
        "outputId": "095e8d70-27f9-4988-ce78-5fa73f15acee"
      },
      "execution_count": null,
      "outputs": [
        {
          "output_type": "stream",
          "name": "stdout",
          "text": [
            "+-----------+----------+\n",
            "|mispelledID|standardID|\n",
            "+-----------+----------+\n",
            "|    1027859|   1252408|\n",
            "|    1017615|       668|\n",
            "|    6745885|   1268522|\n",
            "|    1018110|   1018110|\n",
            "|    1014609|   1014609|\n",
            "+-----------+----------+\n",
            "only showing top 5 rows\n",
            "\n"
          ]
        }
      ]
    },
    {
      "cell_type": "code",
      "source": [
        "artistAliasDF[artistAliasDF.mispelledID == \"1027859\" ].show()\n",
        "artistAliasDF[artistAliasDF.mispelledID == \"1252408\" ].show()\n"
      ],
      "metadata": {
        "colab": {
          "base_uri": "https://localhost:8080/"
        },
        "id": "-gStwuZb2gib",
        "outputId": "f3f56627-a404-43f4-e063-6055592af71f"
      },
      "execution_count": null,
      "outputs": [
        {
          "output_type": "stream",
          "name": "stdout",
          "text": [
            "+-----------+----------+\n",
            "|mispelledID|standardID|\n",
            "+-----------+----------+\n",
            "|    1027859|   1252408|\n",
            "|    1027859|   1252408|\n",
            "+-----------+----------+\n",
            "\n",
            "+-----------+----------+\n",
            "|mispelledID|standardID|\n",
            "+-----------+----------+\n",
            "+-----------+----------+\n",
            "\n"
          ]
        }
      ]
    },
    {
      "cell_type": "code",
      "source": [
        "artistAlias = artistAliasDF.rdd.map(lambda row: (row.mispelledID,row.standardID)).collectAsMap()\n",
        "len(artistAlias)"
      ],
      "metadata": {
        "colab": {
          "base_uri": "https://localhost:8080/"
        },
        "id": "tWyPEEBT2lTo",
        "outputId": "3d409c39-652a-4a36-9132-0d675bab68c7"
      },
      "execution_count": null,
      "outputs": [
        {
          "output_type": "execute_result",
          "data": {
            "text/plain": [
              "587"
            ]
          },
          "metadata": {},
          "execution_count": 26
        }
      ]
    },
    {
      "cell_type": "code",
      "source": [
        "from time import time\n",
        "\n",
        "bArtistAlias = sc.broadcast(artistAlias)\n",
        "\n",
        "def replaceMispelledIDs(fields):\n",
        "    finalID = bArtistAlias.value.get(fields[1] ,fields[1])\n",
        "    return (fields[0], finalID, fields[2])\n",
        "\n",
        "t0 = time()\n",
        "\n",
        "newUserArtistDF = sqlContext.createDataFrame(\n",
        "    userArtistDF.rdd.map(replaceMispelledIDs), \n",
        "    userArtistDataSchema\n",
        ")\n",
        "newUserArtistDF.show(5)\n",
        "t1 = time()\n",
        "\n",
        "print('The script takes %f seconds' %(t1-t0))\n",
        "newUserArtistDF = newUserArtistDF.cache()"
      ],
      "metadata": {
        "colab": {
          "base_uri": "https://localhost:8080/"
        },
        "id": "cYphp9Xb24f7",
        "outputId": "1feace7d-5a28-49aa-8d87-e6159bda3772"
      },
      "execution_count": null,
      "outputs": [
        {
          "output_type": "stream",
          "name": "stdout",
          "text": [
            "+-------+--------+---------+\n",
            "| userID|artistID|playCount|\n",
            "+-------+--------+---------+\n",
            "|1059637| 1000010|      238|\n",
            "|1059637| 1000049|        1|\n",
            "|1059637| 1000056|        1|\n",
            "|1059637| 1000062|       11|\n",
            "|1059637| 1000094|        1|\n",
            "+-------+--------+---------+\n",
            "only showing top 5 rows\n",
            "\n",
            "The script takes 1.059970 seconds\n"
          ]
        }
      ]
    },
    {
      "cell_type": "code",
      "source": [
        "uniqueArtists = newUserArtistDF.select('artistID').distinct().count()\n",
        "print(\"Total n. of artists: \", uniqueArtists)"
      ],
      "metadata": {
        "colab": {
          "base_uri": "https://localhost:8080/"
        },
        "id": "jyIHjVMb28fK",
        "outputId": "585b7113-dab7-4c61-bf6f-248d926245cb"
      },
      "execution_count": null,
      "outputs": [
        {
          "output_type": "stream",
          "name": "stdout",
          "text": [
            "Total n. of artists:  30100\n"
          ]
        }
      ]
    },
    {
      "cell_type": "code",
      "source": [
        "top10ArtistsPC = newUserArtistDF.groupBy('artistID').sum('playCount').orderBy('sum(playCount)', ascending=0).take(10)\n",
        "y_pos = list(range(len(top10ArtistsPC)))\n",
        "pdf = pd.DataFrame(data=top10ArtistsPC)\n",
        "plt.barh(y_pos, pdf[1][::-1], align='center', alpha=0.4)\n",
        "plt.yticks(y_pos, pdf[0][::-1])\n",
        "plt.xlabel('Play Count')\n",
        "plt.ylabel('Artist')\n",
        "plt.title('Top-10 Artist ID per play counts')\n",
        "plt.show()"
      ],
      "metadata": {
        "colab": {
          "base_uri": "https://localhost:8080/",
          "height": 295
        },
        "id": "na437vGb2_oD",
        "outputId": "3a09f909-6e99-4994-9a1f-14cbebf1529c"
      },
      "execution_count": null,
      "outputs": [
        {
          "output_type": "display_data",
          "data": {
            "text/plain": [
              "<Figure size 432x288 with 1 Axes>"
            ],
            "image/png": "[encoded data removed]"
          },
          "metadata": {
            "needs_background": "light"
          }
        }
      ]
    },
    {
      "cell_type": "code",
      "source": [
        "top10UsersByPlayCount = newUserArtistDF.groupBy(\"userID\").sum('playCount').orderBy('sum(playCount)', ascending=0).take(10)\n",
        "\n",
        "y_pos = list(range(len(top10UsersByPlayCount)))\n",
        "pdf = pd.DataFrame(data=top10UsersByPlayCount)\n",
        "\n",
        "plt.barh(y_pos, pdf[1][::-1], align='center', alpha=0.4)\n",
        "plt.yticks(y_pos, pdf[0][::-1])\n",
        "plt.xlabel('Play Count') \n",
        "plt.ylabel('User')\n",
        "plt.title('Top-10 Users ID per play counts')\n",
        "plt.show()"
      ],
      "metadata": {
        "colab": {
          "base_uri": "https://localhost:8080/",
          "height": 295
        },
        "id": "jw5QiCBF3B-A",
        "outputId": "739184ac-9784-41aa-c552-96e96b2ef4df"
      },
      "execution_count": null,
      "outputs": [
        {
          "output_type": "display_data",
          "data": {
            "text/plain": [
              "<Figure size 432x288 with 1 Axes>"
            ],
            "image/png": "[encoded data removed]"
          },
          "metadata": {
            "needs_background": "light"
          }
        }
      ]
    },
    {
      "cell_type": "code",
      "source": [
        "top10UsersByCuriosity = (newUserArtistDF.dropDuplicates(['userID', 'artistID'])\n",
        "                             .groupBy(\"userID\")\n",
        "                             .count()\n",
        "                             .orderBy('count', ascending=0)\n",
        "                             .take(10)\n",
        "                         )\n",
        "\n",
        "#print(top10UsersByCuriosity)\n",
        "y_pos = range(len(top10UsersByCuriosity))\n",
        "\n",
        "pdf = pd.DataFrame(data=top10UsersByCuriosity)\n",
        "\n",
        "plt.barh(y_pos, pdf[1][::-1], align='center', alpha=0.4)\n",
        "plt.yticks(y_pos, pdf[0][::-1])\n",
        "plt.xlabel('Number of played artists')\n",
        "plt.ylabel('User')\n",
        "plt.title('Top-10 Users ID per Curiosity')\n",
        "plt.show()"
      ],
      "metadata": {
        "colab": {
          "base_uri": "https://localhost:8080/",
          "height": 295
        },
        "id": "gNdRu_gb3FQT",
        "outputId": "9934456b-7021-4fd3-a5c6-8ea39822f4f4"
      },
      "execution_count": null,
      "outputs": [
        {
          "output_type": "display_data",
          "data": {
            "text/plain": [
              "<Figure size 432x288 with 1 Axes>"
            ],
            "image/png": "[encoded data removed]"
          },
          "metadata": {
            "needs_background": "light"
          }
        }
      ]
    },
    {
      "cell_type": "code",
      "source": [
        "import findspark\n",
        "findspark.init()\n",
        "\n",
        "from pyspark.mllib.recommendation import *\n",
        "import random\n",
        "from operator import *\n",
        "from collections import defaultdict\n",
        "from pyspark import SparkContext\n",
        "from pyspark.sql import SQLContext\n",
        "from pyspark.sql.types import *\n",
        "from pyspark.sql import Row\n",
        "from pyspark.sql.functions import *\n",
        "\n",
        "%matplotlib inline\n",
        "import matplotlib.pyplot as plt\n",
        "import pandas as pd\n",
        "import numpy as np\n",
        "from time import time"
      ],
      "metadata": {
        "id": "aYr48iT73KGs"
      },
      "execution_count": null,
      "outputs": []
    },
    {
      "cell_type": "code",
      "source": [
        "from pyspark import SparkContext, SparkConf\n",
        "spark = SparkContext.getOrCreate()\n",
        "spark.stop()\n",
        "spark = SparkContext('local','Recommender')"
      ],
      "metadata": {
        "id": "rBzRqp5V3NZw"
      },
      "execution_count": null,
      "outputs": []
    },
    {
      "cell_type": "code",
      "source": [
        "artistData = spark.textFile('/content/drive/MyDrive/artist_data_small1.txt').map(lambda s:(int(s.split(\"\\t\")[0]),s.split(\"\\t\")[1]))\n",
        "artistAlias = spark.textFile('/content/drive/MyDrive/artist_alias_small1.txt')\n",
        "userArtistData = spark.textFile('/content/drive/MyDrive/user_artist_data_small1.txt')"
      ],
      "metadata": {
        "id": "RVC_IWUw3S-8"
      },
      "execution_count": null,
      "outputs": []
    },
    {
      "cell_type": "code",
      "source": [
        "userArtistData = userArtistData.map(lambda s:(int(s.split(\" \")[0]),int(s.split(\" \")[1]),int(s.split(\" \")[2])))"
      ],
      "metadata": {
        "id": "z596wrJd3Wrf"
      },
      "execution_count": null,
      "outputs": []
    },
    {
      "cell_type": "code",
      "source": [
        "artistAliasDictionary = {}\n",
        "dataValue = artistAlias.map(lambda s:(int(s.split(\"\\t\")[0]),int(s.split(\"\\t\")[1])))\n",
        "for temp in dataValue.collect():\n",
        "    artistAliasDictionary[temp[0]] = temp[1]"
      ],
      "metadata": {
        "id": "hgYAW8sW3ZRS"
      },
      "execution_count": null,
      "outputs": []
    },
    {
      "cell_type": "code",
      "source": [
        "userArtistData = userArtistData.map(lambda x: (x[0], artistAliasDictionary[x[1]] if x[1] in artistAliasDictionary else x[1], x[2]))"
      ],
      "metadata": {
        "id": "T_yZw8Ia3caZ"
      },
      "execution_count": null,
      "outputs": []
    },
    {
      "cell_type": "code",
      "source": [
        "userSum = userArtistData.map(lambda x:(x[0],x[2]))\n",
        "playCount1 = userSum.map(lambda x: (x[0],x[1])).reduceByKey(lambda a,b : a+b)\n",
        "playCount2 = userSum.map(lambda x: (x[0],1)).reduceByKey(lambda a,b:a+b)\n",
        "playSumAndCount = playCount1.leftOuterJoin(playCount2)"
      ],
      "metadata": {
        "id": "NCTQr3on3fTF"
      },
      "execution_count": null,
      "outputs": []
    },
    {
      "cell_type": "code",
      "source": [
        "playSumAndCount = playSumAndCount.map(lambda x: (x[0],x[1][0],int(x[1][0]/x[1][1])))"
      ],
      "metadata": {
        "id": "XAJJbENk3h0h"
      },
      "execution_count": null,
      "outputs": []
    },
    {
      "cell_type": "code",
      "source": [
        "TopThree = playSumAndCount.top(3,key=lambda x: x[1])\n",
        "for i in TopThree:\n",
        "    print('User '+str(i[0])+' has a total play count of '+str(i[1])+' and a mean play count of '+str(i[2])+'.')"
      ],
      "metadata": {
        "colab": {
          "base_uri": "https://localhost:8080/"
        },
        "id": "bZO0PcZ93ji0",
        "outputId": "dd0e3f15-9d6e-466a-a16a-d6f515e6238f"
      },
      "execution_count": null,
      "outputs": [
        {
          "output_type": "stream",
          "name": "stdout",
          "text": [
            "User 1059637 has a total play count of 1348824 and a mean play count of 1878.\n",
            "User 2064012 has a total play count of 1096854 and a mean play count of 9455.\n",
            "User 2069337 has a total play count of 623778 and a mean play count of 1823.\n"
          ]
        }
      ]
    },
    {
      "cell_type": "code",
      "source": [
        "trainData, validationData, testData = userArtistData.randomSplit((0.4,0.4,0.2),seed=13)\n",
        "trainData.cache()\n",
        "validationData.cache()\n",
        "testData.cache()"
      ],
      "metadata": {
        "colab": {
          "base_uri": "https://localhost:8080/"
        },
        "id": "sK5UAYQ_3m2u",
        "outputId": "0725284b-1280-4261-8225-72a1869a7354"
      },
      "execution_count": null,
      "outputs": [
        {
          "output_type": "execute_result",
          "data": {
            "text/plain": [
              "PythonRDD[21] at RDD at PythonRDD.scala:53"
            ]
          },
          "metadata": {},
          "execution_count": 41
        }
      ]
    },
    {
      "cell_type": "code",
      "source": [
        "print(trainData.take(3))\n",
        "print(validationData.take(3))\n",
        "print(testData.take(3))\n",
        "print(trainData.count())\n",
        "print(validationData.count())\n",
        "print(testData.count())"
      ],
      "metadata": {
        "colab": {
          "base_uri": "https://localhost:8080/"
        },
        "id": "FnW_41Hs3rdx",
        "outputId": "e73c5566-ca5d-46d6-c940-b967963f24e3"
      },
      "execution_count": null,
      "outputs": [
        {
          "output_type": "stream",
          "name": "stdout",
          "text": [
            "[(1059637, 1000049, 1), (1059637, 1000056, 1), (1059637, 1000114, 2)]\n",
            "[(1059637, 1000010, 238), (1059637, 1000062, 11), (1059637, 1000123, 2)]\n",
            "[(1059637, 1000094, 1), (1059637, 1000112, 423), (1059637, 1000113, 5)]\n",
            "19972\n",
            "20027\n",
            "9982\n"
          ]
        }
      ]
    },
    {
      "cell_type": "code",
      "source": [
        "def modelEval(model, dataset):\n",
        "    \n",
        "    # All artists in the 'userArtistData' dataset\n",
        "    AllArtists = spark.parallelize(set(userArtistData.map(lambda x:x[1]).collect()))\n",
        "    # Set of all users in the Validation/Testing dataset\n",
        "    \n",
        "    AllUsers = spark.parallelize(set(dataset.map(lambda x:x[0]).collect()))\n",
        "    \n",
        "    \n",
        "    # Create a dictionary of (key, values) for Validation/Testing dataset\n",
        "    \n",
        "    ValidationAndTestingDictionary ={}\n",
        "    for temp in AllUsers.collect():\n",
        "        tempFilter = dataset.filter(lambda x:x[0] == temp).collect()\n",
        "        for item in tempFilter:\n",
        "            if temp in ValidationAndTestingDictionary:\n",
        "                ValidationAndTestingDictionary[temp].append(item[1])\n",
        "            else:\n",
        "                ValidationAndTestingDictionary[temp] = [item[1]]\n",
        "                    \n",
        "    \n",
        "    # Create a dictionary of (key, values) for training dataset\n",
        "    \n",
        "    TrainingDictionary = {}\n",
        "    for temp in AllUsers.collect():\n",
        "        tempFilter = trainData.filter(lambda x:x[0] == temp).collect()\n",
        "        for item in tempFilter:\n",
        "            if temp in TrainingDictionary:\n",
        "                TrainingDictionary[temp].append(item[1])\n",
        "            else:\n",
        "                TrainingDictionary[temp] = [item[1]]\n",
        "        \n",
        "    \n",
        "    # Calculate the prediction score for each user \n",
        "   \n",
        "    PredictionScore = 0.00\n",
        "    for temp in AllUsers.collect():\n",
        "        ArtistPrediction =  AllArtists.map(lambda x:(temp,x))\n",
        "        ModelPrediction = model.predictAll(ArtistPrediction)\n",
        "        tempFilter = ModelPrediction.filter(lambda x :not x[1] in TrainingDictionary[x[0]])\n",
        "        topPredictions = tempFilter.top(len(ValidationAndTestingDictionary[temp]),key=lambda x:x[2])\n",
        "        l=[]\n",
        "        for i in topPredictions:\n",
        "            l.append(i[1])\n",
        "        PredictionScore+=len(set(l).intersection(ValidationAndTestingDictionary[temp]))/len(ValidationAndTestingDictionary[temp])    \n",
        "\n",
        "        \n",
        "    # Print average score of the model for all users for the specified rank\n",
        "    \n",
        "    print(\"The model score for rank \"+str(model.rank)+\" is ~\"+str(PredictionScore/len(ValidationAndTestingDictionary)))"
      ],
      "metadata": {
        "id": "wzrbvphL3xGn"
      },
      "execution_count": null,
      "outputs": []
    },
    {
      "cell_type": "code",
      "source": [
        "rankList = [2,10,20]\n",
        "for rank in rankList:\n",
        "     model = ALS.trainImplicit(trainData, rank , seed=345)\n",
        "     modelEval(model,validationData) "
      ],
      "metadata": {
        "colab": {
          "base_uri": "https://localhost:8080/"
        },
        "id": "BJd8clNb34Bf",
        "outputId": "5ac8f8c7-483e-4d13-e4e1-82be040eac11"
      },
      "execution_count": null,
      "outputs": [
        {
          "output_type": "stream",
          "name": "stdout",
          "text": [
            "The model score for rank 2 is ~0.07478965804909071\n",
            "The model score for rank 10 is ~0.09949125799664481\n",
            "The model score for rank 20 is ~0.09020351262501673\n"
          ]
        }
      ]
    },
    {
      "cell_type": "code",
      "source": [
        "bestModel = ALS.trainImplicit(trainData, rank=10, seed=345)\n",
        "modelEval(bestModel, testData)"
      ],
      "metadata": {
        "colab": {
          "base_uri": "https://localhost:8080/"
        },
        "id": "7ajlGqOk36rs",
        "outputId": "939736d7-f73b-4805-e25c-cc740f1fee13"
      },
      "execution_count": null,
      "outputs": [
        {
          "output_type": "stream",
          "name": "stdout",
          "text": [
            "The model score for rank 10 is ~0.06814203309788236\n"
          ]
        }
      ]
    },
    {
      "cell_type": "code",
      "source": [
        "TopFive = bestModel.recommendProducts(1059637,5)\n",
        "for item in range(0,5):\n",
        "    print(\"Artist \"+str(item)+\": \"+artistData.filter(lambda x:x[0] == TopFive[item][1]).collect()[0][1])"
      ],
      "metadata": {
        "colab": {
          "base_uri": "https://localhost:8080/"
        },
        "id": "TULFqUpU4BlM",
        "outputId": "3401a9fe-1cd6-4d90-dcad-2f32b7c916bc"
      },
      "execution_count": null,
      "outputs": [
        {
          "output_type": "stream",
          "name": "stdout",
          "text": [
            "Artist 0: Thrice\n",
            "Artist 1: The Used\n",
            "Artist 2: The Blood Brothers\n",
            "Artist 3: System of a Down\n",
            "Artist 4: Rage Against the Machine\n"
          ]
        }
      ]
    },
    {
      "cell_type": "markdown",
      "source": [
        "time taken for the entire script"
      ],
      "metadata": {
        "id": "6as6N9Yz2LzY"
      }
    },
    {
      "cell_type": "code",
      "source": [
        "\n",
        "print('The script takes %f seconds' %(t1-t0))"
      ],
      "metadata": {
        "id": "WCd29eC348ry",
        "colab": {
          "base_uri": "https://localhost:8080/"
        },
        "outputId": "8b31f22d-9552-4232-c3ec-b80c79f82625"
      },
      "execution_count": null,
      "outputs": [
        {
          "output_type": "stream",
          "name": "stdout",
          "text": [
            "The script takes 1.059970 seconds\n"
          ]
        }
      ]
    },
    {
      "cell_type": "markdown",
      "source": [
        "# **working on python code for music recommendation** "
      ],
      "metadata": {
        "id": "Eya1F3Vo2OuV"
      }
    },
    {
      "cell_type": "markdown",
      "source": [
        "importing the required libraries"
      ],
      "metadata": {
        "id": "N7g6cUKU4e94"
      }
    },
    {
      "cell_type": "code",
      "source": [
        "import numpy as np\n",
        "import tensorflow as tf\n",
        "from tensorflow import keras\n",
        "import pandas as pd\n",
        "import seaborn as sns\n",
        "from pylab import rcParams\n",
        "import string\n",
        "import re\n",
        "import matplotlib.pyplot as plt\n",
        "import math\n",
        "from matplotlib import rc\n",
        "from google.colab import drive\n",
        "from sklearn.model_selection import train_test_split\n",
        "from collections import Counter, defaultdict\n",
        "from sklearn.metrics import accuracy_score\n",
        "import matplotlib.ticker as ticker\n",
        "from math import sqrt\n",
        "\n",
        "\n",
        "from sklearn.metrics import mean_squared_error\n",
        "\n",
        "%matplotlib inline\n",
        "\n",
        "sns.set(style='whitegrid', palette='muted', font_scale=1.3)\n",
        "\n",
        "rcParams['figure.figsize'] = 14, 8\n",
        "\n",
        "RANDOM_SEED = 42\n",
        "\n",
        "np.random.seed(RANDOM_SEED)"
      ],
      "metadata": {
        "id": "DCYenuU34ea8"
      },
      "execution_count": null,
      "outputs": []
    },
    {
      "cell_type": "markdown",
      "source": [
        "unzipping the dataset"
      ],
      "metadata": {
        "id": "cLkA5Pdg24kq"
      }
    },
    {
      "cell_type": "code",
      "source": [
        "!unzip /content/drive/MyDrive/music_Recommendation.zip"
      ],
      "metadata": {
        "id": "fUbV6sp78qn0",
        "colab": {
          "base_uri": "https://localhost:8080/"
        },
        "outputId": "e487e031-ee74-4377-91be-a938f7b5b010"
      },
      "execution_count": null,
      "outputs": [
        {
          "output_type": "stream",
          "name": "stdout",
          "text": [
            "Archive:  /content/drive/MyDrive/music_Recommendation.zip\n",
            "replace user_friends.dat? [y]es, [n]o, [A]ll, [N]one, [r]ename: A\n",
            "  inflating: user_friends.dat        \n",
            "  inflating: user_taggedartists.dat  \n",
            "  inflating: user_taggedartists-timestamps.dat  \n",
            "  inflating: artists.dat             \n",
            "  inflating: readme.txt              \n",
            "  inflating: tags.dat                \n",
            "  inflating: user_artists.dat        \n"
          ]
        }
      ]
    },
    {
      "cell_type": "markdown",
      "source": [
        "We’ll focus on user_artists.dat and artists.dat as they contain all data required to make recommendations for new music artists to a user. Instead of ratings, we’re going to use the play count by a user for each artist."
      ],
      "metadata": {
        "id": "PzZLRYHw2yPK"
      }
    },
    {
      "cell_type": "markdown",
      "source": [
        "loading the dataset"
      ],
      "metadata": {
        "id": "5Joo5KDL29D2"
      }
    },
    {
      "cell_type": "code",
      "source": [
        "import numpy as np \n",
        "import pandas as pd\n",
        "plays = pd.read_csv('/content/user_artists.dat', sep='\\t')\n",
        "artists = pd.read_csv(\n",
        "  '/content/artists.dat',\n",
        "  sep='\\t',\n",
        "  usecols=['id','name']\n",
        ")"
      ],
      "metadata": {
        "id": "w15hA6o-2tPi"
      },
      "execution_count": null,
      "outputs": []
    },
    {
      "cell_type": "code",
      "source": [
        "plays"
      ],
      "metadata": {
        "colab": {
          "base_uri": "https://localhost:8080/",
          "height": 424
        },
        "id": "wPzXZ4Ws3aqR",
        "outputId": "6f31489a-9743-4419-8672-e6694a95d74e"
      },
      "execution_count": null,
      "outputs": [
        {
          "output_type": "execute_result",
          "data": {
            "text/plain": [
              "       userID  artistID  weight\n",
              "0           2        51   13883\n",
              "1           2        52   11690\n",
              "2           2        53   11351\n",
              "3           2        54   10300\n",
              "4           2        55    8983\n",
              "...       ...       ...     ...\n",
              "92829    2100     18726     337\n",
              "92830    2100     18727     297\n",
              "92831    2100     18728     281\n",
              "92832    2100     18729     280\n",
              "92833    2100     18730     263\n",
              "\n",
              "[92834 rows x 3 columns]"
            ],
            "text/html": [
              "\n",
              "  <div id=\"df-3b18b1e8-1d4f-4d85-9d7b-a7bc4f20d249\">\n",
              "    <div class=\"colab-df-container\">\n",
              "      <div>\n",
              "<style scoped>\n",
              "    .dataframe tbody tr th:only-of-type {\n",
              "        vertical-align: middle;\n",
              "    }\n",
              "\n",
              "    .dataframe tbody tr th {\n",
              "        vertical-align: top;\n",
              "    }\n",
              "\n",
              "    .dataframe thead th {\n",
              "        text-align: right;\n",
              "    }\n",
              "</style>\n",
              "<table border=\"1\" class=\"dataframe\">\n",
              "  <thead>\n",
              "    <tr style=\"text-align: right;\">\n",
              "      <th></th>\n",
              "      <th>userID</th>\n",
              "      <th>artistID</th>\n",
              "      <th>weight</th>\n",
              "    </tr>\n",
              "  </thead>\n",
              "  <tbody>\n",
              "    <tr>\n",
              "      <th>0</th>\n",
              "      <td>2</td>\n",
              "      <td>51</td>\n",
              "      <td>13883</td>\n",
              "    </tr>\n",
              "    <tr>\n",
              "      <th>1</th>\n",
              "      <td>2</td>\n",
              "      <td>52</td>\n",
              "      <td>11690</td>\n",
              "    </tr>\n",
              "    <tr>\n",
              "      <th>2</th>\n",
              "      <td>2</td>\n",
              "      <td>53</td>\n",
              "      <td>11351</td>\n",
              "    </tr>\n",
              "    <tr>\n",
              "      <th>3</th>\n",
              "      <td>2</td>\n",
              "      <td>54</td>\n",
              "      <td>10300</td>\n",
              "    </tr>\n",
              "    <tr>\n",
              "      <th>4</th>\n",
              "      <td>2</td>\n",
              "      <td>55</td>\n",
              "      <td>8983</td>\n",
              "    </tr>\n",
              "    <tr>\n",
              "      <th>...</th>\n",
              "      <td>...</td>\n",
              "      <td>...</td>\n",
              "      <td>...</td>\n",
              "    </tr>\n",
              "    <tr>\n",
              "      <th>92829</th>\n",
              "      <td>2100</td>\n",
              "      <td>18726</td>\n",
              "      <td>337</td>\n",
              "    </tr>\n",
              "    <tr>\n",
              "      <th>92830</th>\n",
              "      <td>2100</td>\n",
              "      <td>18727</td>\n",
              "      <td>297</td>\n",
              "    </tr>\n",
              "    <tr>\n",
              "      <th>92831</th>\n",
              "      <td>2100</td>\n",
              "      <td>18728</td>\n",
              "      <td>281</td>\n",
              "    </tr>\n",
              "    <tr>\n",
              "      <th>92832</th>\n",
              "      <td>2100</td>\n",
              "      <td>18729</td>\n",
              "      <td>280</td>\n",
              "    </tr>\n",
              "    <tr>\n",
              "      <th>92833</th>\n",
              "      <td>2100</td>\n",
              "      <td>18730</td>\n",
              "      <td>263</td>\n",
              "    </tr>\n",
              "  </tbody>\n",
              "</table>\n",
              "<p>92834 rows × 3 columns</p>\n",
              "</div>\n",
              "      <button class=\"colab-df-convert\" onclick=\"convertToInteractive('df-3b18b1e8-1d4f-4d85-9d7b-a7bc4f20d249')\"\n",
              "              title=\"Convert this dataframe to an interactive table.\"\n",
              "              style=\"display:none;\">\n",
              "        \n",
              "  <svg xmlns=\"http://www.w3.org/2000/svg\" height=\"24px\"viewBox=\"0 0 24 24\"\n",
              "       width=\"24px\">\n",
              "    <path d=\"M0 0h24v24H0V0z\" fill=\"none\"/>\n",
              "    <path d=\"M18.56 5.44l.94 2.06.94-2.06 2.06-.94-2.06-.94-.94-2.06-.94 2.06-2.06.94zm-11 1L8.5 8.5l.94-2.06 2.06-.94-2.06-.94L8.5 2.5l-.94 2.06-2.06.94zm10 10l.94 2.06.94-2.06 2.06-.94-2.06-.94-.94-2.06-.94 2.06-2.06.94z\"/><path d=\"M17.41 7.96l-1.37-1.37c-.4-.4-.92-.59-1.43-.59-.52 0-1.04.2-1.43.59L10.3 9.45l-7.72 7.72c-.78.78-.78 2.05 0 2.83L4 21.41c.39.39.9.59 1.41.59.51 0 1.02-.2 1.41-.59l7.78-7.78 2.81-2.81c.8-.78.8-2.07 0-2.86zM5.41 20L4 18.59l7.72-7.72 1.47 1.35L5.41 20z\"/>\n",
              "  </svg>\n",
              "      </button>\n",
              "      \n",
              "  <style>\n",
              "    .colab-df-container {\n",
              "      display:flex;\n",
              "      flex-wrap:wrap;\n",
              "      gap: 12px;\n",
              "    }\n",
              "\n",
              "    .colab-df-convert {\n",
              "      background-color: #E8F0FE;\n",
              "      border: none;\n",
              "      border-radius: 50%;\n",
              "      cursor: pointer;\n",
              "      display: none;\n",
              "      fill: #1967D2;\n",
              "      height: 32px;\n",
              "      padding: 0 0 0 0;\n",
              "      width: 32px;\n",
              "    }\n",
              "\n",
              "    .colab-df-convert:hover {\n",
              "      background-color: #E2EBFA;\n",
              "      box-shadow: 0px 1px 2px rgba(60, 64, 67, 0.3), 0px 1px 3px 1px rgba(60, 64, 67, 0.15);\n",
              "      fill: #174EA6;\n",
              "    }\n",
              "\n",
              "    [theme=dark] .colab-df-convert {\n",
              "      background-color: #3B4455;\n",
              "      fill: #D2E3FC;\n",
              "    }\n",
              "\n",
              "    [theme=dark] .colab-df-convert:hover {\n",
              "      background-color: #434B5C;\n",
              "      box-shadow: 0px 1px 3px 1px rgba(0, 0, 0, 0.15);\n",
              "      filter: drop-shadow(0px 1px 2px rgba(0, 0, 0, 0.3));\n",
              "      fill: #FFFFFF;\n",
              "    }\n",
              "  </style>\n",
              "\n",
              "      <script>\n",
              "        const buttonEl =\n",
              "          document.querySelector('#df-3b18b1e8-1d4f-4d85-9d7b-a7bc4f20d249 button.colab-df-convert');\n",
              "        buttonEl.style.display =\n",
              "          google.colab.kernel.accessAllowed ? 'block' : 'none';\n",
              "\n",
              "        async function convertToInteractive(key) {\n",
              "          const element = document.querySelector('#df-3b18b1e8-1d4f-4d85-9d7b-a7bc4f20d249');\n",
              "          const dataTable =\n",
              "            await google.colab.kernel.invokeFunction('convertToInteractive',\n",
              "                                                     [key], {});\n",
              "          if (!dataTable) return;\n",
              "\n",
              "          const docLinkHtml = 'Like what you see? Visit the ' +\n",
              "            '<a target=\"_blank\" href=https://colab.research.google.com/notebooks/data_table.ipynb>data table notebook</a>'\n",
              "            + ' to learn more about interactive tables.';\n",
              "          element.innerHTML = '';\n",
              "          dataTable['output_type'] = 'display_data';\n",
              "          await google.colab.output.renderOutput(dataTable, element);\n",
              "          const docLink = document.createElement('div');\n",
              "          docLink.innerHTML = docLinkHtml;\n",
              "          element.appendChild(docLink);\n",
              "        }\n",
              "      </script>\n",
              "    </div>\n",
              "  </div>\n",
              "  "
            ]
          },
          "metadata": {},
          "execution_count": 51
        }
      ]
    },
    {
      "cell_type": "code",
      "source": [
        "plays.info()"
      ],
      "metadata": {
        "colab": {
          "base_uri": "https://localhost:8080/"
        },
        "id": "4JmXLZS-3iFc",
        "outputId": "a79f8d58-d98d-49c9-bc04-3e560e7fb19f"
      },
      "execution_count": null,
      "outputs": [
        {
          "output_type": "stream",
          "name": "stdout",
          "text": [
            "<class 'pandas.core.frame.DataFrame'>\n",
            "RangeIndex: 92834 entries, 0 to 92833\n",
            "Data columns (total 3 columns):\n",
            " #   Column    Non-Null Count  Dtype\n",
            "---  ------    --------------  -----\n",
            " 0   userID    92834 non-null  int64\n",
            " 1   artistID  92834 non-null  int64\n",
            " 2   weight    92834 non-null  int64\n",
            "dtypes: int64(3)\n",
            "memory usage: 2.1 MB\n"
          ]
        }
      ]
    },
    {
      "cell_type": "code",
      "source": [
        "plays.describe()"
      ],
      "metadata": {
        "colab": {
          "base_uri": "https://localhost:8080/",
          "height": 300
        },
        "id": "woL0zYsw3kL5",
        "outputId": "c982a23a-5445-470e-b00b-34e99c4e2ba9"
      },
      "execution_count": null,
      "outputs": [
        {
          "output_type": "execute_result",
          "data": {
            "text/plain": [
              "             userID      artistID        weight\n",
              "count  92834.000000  92834.000000   92834.00000\n",
              "mean    1037.010481   3331.123145     745.24393\n",
              "std      610.870436   4383.590502    3751.32208\n",
              "min        2.000000      1.000000       1.00000\n",
              "25%      502.000000    436.000000     107.00000\n",
              "50%     1029.000000   1246.000000     260.00000\n",
              "75%     1568.000000   4350.000000     614.00000\n",
              "max     2100.000000  18745.000000  352698.00000"
            ],
            "text/html": [
              "\n",
              "  <div id=\"df-b338e91b-cfce-40a3-91a5-dde545308b4f\">\n",
              "    <div class=\"colab-df-container\">\n",
              "      <div>\n",
              "<style scoped>\n",
              "    .dataframe tbody tr th:only-of-type {\n",
              "        vertical-align: middle;\n",
              "    }\n",
              "\n",
              "    .dataframe tbody tr th {\n",
              "        vertical-align: top;\n",
              "    }\n",
              "\n",
              "    .dataframe thead th {\n",
              "        text-align: right;\n",
              "    }\n",
              "</style>\n",
              "<table border=\"1\" class=\"dataframe\">\n",
              "  <thead>\n",
              "    <tr style=\"text-align: right;\">\n",
              "      <th></th>\n",
              "      <th>userID</th>\n",
              "      <th>artistID</th>\n",
              "      <th>weight</th>\n",
              "    </tr>\n",
              "  </thead>\n",
              "  <tbody>\n",
              "    <tr>\n",
              "      <th>count</th>\n",
              "      <td>92834.000000</td>\n",
              "      <td>92834.000000</td>\n",
              "      <td>92834.00000</td>\n",
              "    </tr>\n",
              "    <tr>\n",
              "      <th>mean</th>\n",
              "      <td>1037.010481</td>\n",
              "      <td>3331.123145</td>\n",
              "      <td>745.24393</td>\n",
              "    </tr>\n",
              "    <tr>\n",
              "      <th>std</th>\n",
              "      <td>610.870436</td>\n",
              "      <td>4383.590502</td>\n",
              "      <td>3751.32208</td>\n",
              "    </tr>\n",
              "    <tr>\n",
              "      <th>min</th>\n",
              "      <td>2.000000</td>\n",
              "      <td>1.000000</td>\n",
              "      <td>1.00000</td>\n",
              "    </tr>\n",
              "    <tr>\n",
              "      <th>25%</th>\n",
              "      <td>502.000000</td>\n",
              "      <td>436.000000</td>\n",
              "      <td>107.00000</td>\n",
              "    </tr>\n",
              "    <tr>\n",
              "      <th>50%</th>\n",
              "      <td>1029.000000</td>\n",
              "      <td>1246.000000</td>\n",
              "      <td>260.00000</td>\n",
              "    </tr>\n",
              "    <tr>\n",
              "      <th>75%</th>\n",
              "      <td>1568.000000</td>\n",
              "      <td>4350.000000</td>\n",
              "      <td>614.00000</td>\n",
              "    </tr>\n",
              "    <tr>\n",
              "      <th>max</th>\n",
              "      <td>2100.000000</td>\n",
              "      <td>18745.000000</td>\n",
              "      <td>352698.00000</td>\n",
              "    </tr>\n",
              "  </tbody>\n",
              "</table>\n",
              "</div>\n",
              "      <button class=\"colab-df-convert\" onclick=\"convertToInteractive('df-b338e91b-cfce-40a3-91a5-dde545308b4f')\"\n",
              "              title=\"Convert this dataframe to an interactive table.\"\n",
              "              style=\"display:none;\">\n",
              "        \n",
              "  <svg xmlns=\"http://www.w3.org/2000/svg\" height=\"24px\"viewBox=\"0 0 24 24\"\n",
              "       width=\"24px\">\n",
              "    <path d=\"M0 0h24v24H0V0z\" fill=\"none\"/>\n",
              "    <path d=\"M18.56 5.44l.94 2.06.94-2.06 2.06-.94-2.06-.94-.94-2.06-.94 2.06-2.06.94zm-11 1L8.5 8.5l.94-2.06 2.06-.94-2.06-.94L8.5 2.5l-.94 2.06-2.06.94zm10 10l.94 2.06.94-2.06 2.06-.94-2.06-.94-.94-2.06-.94 2.06-2.06.94z\"/><path d=\"M17.41 7.96l-1.37-1.37c-.4-.4-.92-.59-1.43-.59-.52 0-1.04.2-1.43.59L10.3 9.45l-7.72 7.72c-.78.78-.78 2.05 0 2.83L4 21.41c.39.39.9.59 1.41.59.51 0 1.02-.2 1.41-.59l7.78-7.78 2.81-2.81c.8-.78.8-2.07 0-2.86zM5.41 20L4 18.59l7.72-7.72 1.47 1.35L5.41 20z\"/>\n",
              "  </svg>\n",
              "      </button>\n",
              "      \n",
              "  <style>\n",
              "    .colab-df-container {\n",
              "      display:flex;\n",
              "      flex-wrap:wrap;\n",
              "      gap: 12px;\n",
              "    }\n",
              "\n",
              "    .colab-df-convert {\n",
              "      background-color: #E8F0FE;\n",
              "      border: none;\n",
              "      border-radius: 50%;\n",
              "      cursor: pointer;\n",
              "      display: none;\n",
              "      fill: #1967D2;\n",
              "      height: 32px;\n",
              "      padding: 0 0 0 0;\n",
              "      width: 32px;\n",
              "    }\n",
              "\n",
              "    .colab-df-convert:hover {\n",
              "      background-color: #E2EBFA;\n",
              "      box-shadow: 0px 1px 2px rgba(60, 64, 67, 0.3), 0px 1px 3px 1px rgba(60, 64, 67, 0.15);\n",
              "      fill: #174EA6;\n",
              "    }\n",
              "\n",
              "    [theme=dark] .colab-df-convert {\n",
              "      background-color: #3B4455;\n",
              "      fill: #D2E3FC;\n",
              "    }\n",
              "\n",
              "    [theme=dark] .colab-df-convert:hover {\n",
              "      background-color: #434B5C;\n",
              "      box-shadow: 0px 1px 3px 1px rgba(0, 0, 0, 0.15);\n",
              "      filter: drop-shadow(0px 1px 2px rgba(0, 0, 0, 0.3));\n",
              "      fill: #FFFFFF;\n",
              "    }\n",
              "  </style>\n",
              "\n",
              "      <script>\n",
              "        const buttonEl =\n",
              "          document.querySelector('#df-b338e91b-cfce-40a3-91a5-dde545308b4f button.colab-df-convert');\n",
              "        buttonEl.style.display =\n",
              "          google.colab.kernel.accessAllowed ? 'block' : 'none';\n",
              "\n",
              "        async function convertToInteractive(key) {\n",
              "          const element = document.querySelector('#df-b338e91b-cfce-40a3-91a5-dde545308b4f');\n",
              "          const dataTable =\n",
              "            await google.colab.kernel.invokeFunction('convertToInteractive',\n",
              "                                                     [key], {});\n",
              "          if (!dataTable) return;\n",
              "\n",
              "          const docLinkHtml = 'Like what you see? Visit the ' +\n",
              "            '<a target=\"_blank\" href=https://colab.research.google.com/notebooks/data_table.ipynb>data table notebook</a>'\n",
              "            + ' to learn more about interactive tables.';\n",
              "          element.innerHTML = '';\n",
              "          dataTable['output_type'] = 'display_data';\n",
              "          await google.colab.output.renderOutput(dataTable, element);\n",
              "          const docLink = document.createElement('div');\n",
              "          docLink.innerHTML = docLinkHtml;\n",
              "          element.appendChild(docLink);\n",
              "        }\n",
              "      </script>\n",
              "    </div>\n",
              "  </div>\n",
              "  "
            ]
          },
          "metadata": {},
          "execution_count": 53
        }
      ]
    },
    {
      "cell_type": "code",
      "source": [
        "artists.info()"
      ],
      "metadata": {
        "colab": {
          "base_uri": "https://localhost:8080/"
        },
        "id": "bndjuLdq3onr",
        "outputId": "a81afaa9-1a48-4048-c45b-f63d2b3cc04d"
      },
      "execution_count": null,
      "outputs": [
        {
          "output_type": "stream",
          "name": "stdout",
          "text": [
            "<class 'pandas.core.frame.DataFrame'>\n",
            "RangeIndex: 17632 entries, 0 to 17631\n",
            "Data columns (total 2 columns):\n",
            " #   Column  Non-Null Count  Dtype \n",
            "---  ------  --------------  ----- \n",
            " 0   id      17632 non-null  int64 \n",
            " 1   name    17632 non-null  object\n",
            "dtypes: int64(1), object(1)\n",
            "memory usage: 275.6+ KB\n"
          ]
        }
      ]
    },
    {
      "cell_type": "code",
      "source": [
        "artists.describe()"
      ],
      "metadata": {
        "colab": {
          "base_uri": "https://localhost:8080/",
          "height": 300
        },
        "id": "N92Pv8R_3sqC",
        "outputId": "73faca47-f425-4a45-cc61-eba861236942"
      },
      "execution_count": null,
      "outputs": [
        {
          "output_type": "execute_result",
          "data": {
            "text/plain": [
              "                 id\n",
              "count  17632.000000\n",
              "mean    9156.636853\n",
              "std     5392.515296\n",
              "min        1.000000\n",
              "25%     4501.750000\n",
              "50%     9048.500000\n",
              "75%    13769.250000\n",
              "max    18745.000000"
            ],
            "text/html": [
              "\n",
              "  <div id=\"df-f9150231-0d1b-479c-9d8e-b6b9213c87b8\">\n",
              "    <div class=\"colab-df-container\">\n",
              "      <div>\n",
              "<style scoped>\n",
              "    .dataframe tbody tr th:only-of-type {\n",
              "        vertical-align: middle;\n",
              "    }\n",
              "\n",
              "    .dataframe tbody tr th {\n",
              "        vertical-align: top;\n",
              "    }\n",
              "\n",
              "    .dataframe thead th {\n",
              "        text-align: right;\n",
              "    }\n",
              "</style>\n",
              "<table border=\"1\" class=\"dataframe\">\n",
              "  <thead>\n",
              "    <tr style=\"text-align: right;\">\n",
              "      <th></th>\n",
              "      <th>id</th>\n",
              "    </tr>\n",
              "  </thead>\n",
              "  <tbody>\n",
              "    <tr>\n",
              "      <th>count</th>\n",
              "      <td>17632.000000</td>\n",
              "    </tr>\n",
              "    <tr>\n",
              "      <th>mean</th>\n",
              "      <td>9156.636853</td>\n",
              "    </tr>\n",
              "    <tr>\n",
              "      <th>std</th>\n",
              "      <td>5392.515296</td>\n",
              "    </tr>\n",
              "    <tr>\n",
              "      <th>min</th>\n",
              "      <td>1.000000</td>\n",
              "    </tr>\n",
              "    <tr>\n",
              "      <th>25%</th>\n",
              "      <td>4501.750000</td>\n",
              "    </tr>\n",
              "    <tr>\n",
              "      <th>50%</th>\n",
              "      <td>9048.500000</td>\n",
              "    </tr>\n",
              "    <tr>\n",
              "      <th>75%</th>\n",
              "      <td>13769.250000</td>\n",
              "    </tr>\n",
              "    <tr>\n",
              "      <th>max</th>\n",
              "      <td>18745.000000</td>\n",
              "    </tr>\n",
              "  </tbody>\n",
              "</table>\n",
              "</div>\n",
              "      <button class=\"colab-df-convert\" onclick=\"convertToInteractive('df-f9150231-0d1b-479c-9d8e-b6b9213c87b8')\"\n",
              "              title=\"Convert this dataframe to an interactive table.\"\n",
              "              style=\"display:none;\">\n",
              "        \n",
              "  <svg xmlns=\"http://www.w3.org/2000/svg\" height=\"24px\"viewBox=\"0 0 24 24\"\n",
              "       width=\"24px\">\n",
              "    <path d=\"M0 0h24v24H0V0z\" fill=\"none\"/>\n",
              "    <path d=\"M18.56 5.44l.94 2.06.94-2.06 2.06-.94-2.06-.94-.94-2.06-.94 2.06-2.06.94zm-11 1L8.5 8.5l.94-2.06 2.06-.94-2.06-.94L8.5 2.5l-.94 2.06-2.06.94zm10 10l.94 2.06.94-2.06 2.06-.94-2.06-.94-.94-2.06-.94 2.06-2.06.94z\"/><path d=\"M17.41 7.96l-1.37-1.37c-.4-.4-.92-.59-1.43-.59-.52 0-1.04.2-1.43.59L10.3 9.45l-7.72 7.72c-.78.78-.78 2.05 0 2.83L4 21.41c.39.39.9.59 1.41.59.51 0 1.02-.2 1.41-.59l7.78-7.78 2.81-2.81c.8-.78.8-2.07 0-2.86zM5.41 20L4 18.59l7.72-7.72 1.47 1.35L5.41 20z\"/>\n",
              "  </svg>\n",
              "      </button>\n",
              "      \n",
              "  <style>\n",
              "    .colab-df-container {\n",
              "      display:flex;\n",
              "      flex-wrap:wrap;\n",
              "      gap: 12px;\n",
              "    }\n",
              "\n",
              "    .colab-df-convert {\n",
              "      background-color: #E8F0FE;\n",
              "      border: none;\n",
              "      border-radius: 50%;\n",
              "      cursor: pointer;\n",
              "      display: none;\n",
              "      fill: #1967D2;\n",
              "      height: 32px;\n",
              "      padding: 0 0 0 0;\n",
              "      width: 32px;\n",
              "    }\n",
              "\n",
              "    .colab-df-convert:hover {\n",
              "      background-color: #E2EBFA;\n",
              "      box-shadow: 0px 1px 2px rgba(60, 64, 67, 0.3), 0px 1px 3px 1px rgba(60, 64, 67, 0.15);\n",
              "      fill: #174EA6;\n",
              "    }\n",
              "\n",
              "    [theme=dark] .colab-df-convert {\n",
              "      background-color: #3B4455;\n",
              "      fill: #D2E3FC;\n",
              "    }\n",
              "\n",
              "    [theme=dark] .colab-df-convert:hover {\n",
              "      background-color: #434B5C;\n",
              "      box-shadow: 0px 1px 3px 1px rgba(0, 0, 0, 0.15);\n",
              "      filter: drop-shadow(0px 1px 2px rgba(0, 0, 0, 0.3));\n",
              "      fill: #FFFFFF;\n",
              "    }\n",
              "  </style>\n",
              "\n",
              "      <script>\n",
              "        const buttonEl =\n",
              "          document.querySelector('#df-f9150231-0d1b-479c-9d8e-b6b9213c87b8 button.colab-df-convert');\n",
              "        buttonEl.style.display =\n",
              "          google.colab.kernel.accessAllowed ? 'block' : 'none';\n",
              "\n",
              "        async function convertToInteractive(key) {\n",
              "          const element = document.querySelector('#df-f9150231-0d1b-479c-9d8e-b6b9213c87b8');\n",
              "          const dataTable =\n",
              "            await google.colab.kernel.invokeFunction('convertToInteractive',\n",
              "                                                     [key], {});\n",
              "          if (!dataTable) return;\n",
              "\n",
              "          const docLinkHtml = 'Like what you see? Visit the ' +\n",
              "            '<a target=\"_blank\" href=https://colab.research.google.com/notebooks/data_table.ipynb>data table notebook</a>'\n",
              "            + ' to learn more about interactive tables.';\n",
              "          element.innerHTML = '';\n",
              "          dataTable['output_type'] = 'display_data';\n",
              "          await google.colab.output.renderOutput(dataTable, element);\n",
              "          const docLink = document.createElement('div');\n",
              "          docLink.innerHTML = docLinkHtml;\n",
              "          element.appendChild(docLink);\n",
              "        }\n",
              "      </script>\n",
              "    </div>\n",
              "  </div>\n",
              "  "
            ]
          },
          "metadata": {},
          "execution_count": 55
        }
      ]
    },
    {
      "cell_type": "markdown",
      "source": [
        "preprocessing"
      ],
      "metadata": {
        "id": "xDPQfF8130nE"
      }
    },
    {
      "cell_type": "code",
      "source": [
        "ap = pd.merge(\n",
        "  artists, plays,\n",
        "  how=\"inner\",\n",
        "  left_on=\"id\",\n",
        "  right_on=\"artistID\"\n",
        ")\n",
        "ap = ap.rename(columns={\"weight\": \"playCount\"})"
      ],
      "metadata": {
        "id": "Ycgvcu9L3w_2"
      },
      "execution_count": null,
      "outputs": []
    },
    {
      "cell_type": "code",
      "source": [
        "ap"
      ],
      "metadata": {
        "colab": {
          "base_uri": "https://localhost:8080/",
          "height": 424
        },
        "id": "meApKmIA34Bl",
        "outputId": "d4ec840f-66fb-4960-c473-274ba264d3b0"
      },
      "execution_count": null,
      "outputs": [
        {
          "output_type": "execute_result",
          "data": {
            "text/plain": [
              "          id              name  userID  artistID  playCount\n",
              "0          1      MALICE MIZER      34         1        212\n",
              "1          1      MALICE MIZER     274         1        483\n",
              "2          1      MALICE MIZER     785         1         76\n",
              "3          2   Diary of Dreams     135         2       1021\n",
              "4          2   Diary of Dreams     257         2        152\n",
              "...      ...               ...     ...       ...        ...\n",
              "92829  18741    Diamanda Galás     454     18741        301\n",
              "92830  18742            Aya RL     454     18742        294\n",
              "92831  18743       Coptic Rain     454     18743        287\n",
              "92832  18744      Oz Alchemist     454     18744        286\n",
              "92833  18745  Grzegorz Tomczak     585     18745        426\n",
              "\n",
              "[92834 rows x 5 columns]"
            ],
            "text/html": [
              "\n",
              "  <div id=\"df-4532e452-97bb-458f-b326-e5cec636dcdd\">\n",
              "    <div class=\"colab-df-container\">\n",
              "      <div>\n",
              "<style scoped>\n",
              "    .dataframe tbody tr th:only-of-type {\n",
              "        vertical-align: middle;\n",
              "    }\n",
              "\n",
              "    .dataframe tbody tr th {\n",
              "        vertical-align: top;\n",
              "    }\n",
              "\n",
              "    .dataframe thead th {\n",
              "        text-align: right;\n",
              "    }\n",
              "</style>\n",
              "<table border=\"1\" class=\"dataframe\">\n",
              "  <thead>\n",
              "    <tr style=\"text-align: right;\">\n",
              "      <th></th>\n",
              "      <th>id</th>\n",
              "      <th>name</th>\n",
              "      <th>userID</th>\n",
              "      <th>artistID</th>\n",
              "      <th>playCount</th>\n",
              "    </tr>\n",
              "  </thead>\n",
              "  <tbody>\n",
              "    <tr>\n",
              "      <th>0</th>\n",
              "      <td>1</td>\n",
              "      <td>MALICE MIZER</td>\n",
              "      <td>34</td>\n",
              "      <td>1</td>\n",
              "      <td>212</td>\n",
              "    </tr>\n",
              "    <tr>\n",
              "      <th>1</th>\n",
              "      <td>1</td>\n",
              "      <td>MALICE MIZER</td>\n",
              "      <td>274</td>\n",
              "      <td>1</td>\n",
              "      <td>483</td>\n",
              "    </tr>\n",
              "    <tr>\n",
              "      <th>2</th>\n",
              "      <td>1</td>\n",
              "      <td>MALICE MIZER</td>\n",
              "      <td>785</td>\n",
              "      <td>1</td>\n",
              "      <td>76</td>\n",
              "    </tr>\n",
              "    <tr>\n",
              "      <th>3</th>\n",
              "      <td>2</td>\n",
              "      <td>Diary of Dreams</td>\n",
              "      <td>135</td>\n",
              "      <td>2</td>\n",
              "      <td>1021</td>\n",
              "    </tr>\n",
              "    <tr>\n",
              "      <th>4</th>\n",
              "      <td>2</td>\n",
              "      <td>Diary of Dreams</td>\n",
              "      <td>257</td>\n",
              "      <td>2</td>\n",
              "      <td>152</td>\n",
              "    </tr>\n",
              "    <tr>\n",
              "      <th>...</th>\n",
              "      <td>...</td>\n",
              "      <td>...</td>\n",
              "      <td>...</td>\n",
              "      <td>...</td>\n",
              "      <td>...</td>\n",
              "    </tr>\n",
              "    <tr>\n",
              "      <th>92829</th>\n",
              "      <td>18741</td>\n",
              "      <td>Diamanda Galás</td>\n",
              "      <td>454</td>\n",
              "      <td>18741</td>\n",
              "      <td>301</td>\n",
              "    </tr>\n",
              "    <tr>\n",
              "      <th>92830</th>\n",
              "      <td>18742</td>\n",
              "      <td>Aya RL</td>\n",
              "      <td>454</td>\n",
              "      <td>18742</td>\n",
              "      <td>294</td>\n",
              "    </tr>\n",
              "    <tr>\n",
              "      <th>92831</th>\n",
              "      <td>18743</td>\n",
              "      <td>Coptic Rain</td>\n",
              "      <td>454</td>\n",
              "      <td>18743</td>\n",
              "      <td>287</td>\n",
              "    </tr>\n",
              "    <tr>\n",
              "      <th>92832</th>\n",
              "      <td>18744</td>\n",
              "      <td>Oz Alchemist</td>\n",
              "      <td>454</td>\n",
              "      <td>18744</td>\n",
              "      <td>286</td>\n",
              "    </tr>\n",
              "    <tr>\n",
              "      <th>92833</th>\n",
              "      <td>18745</td>\n",
              "      <td>Grzegorz Tomczak</td>\n",
              "      <td>585</td>\n",
              "      <td>18745</td>\n",
              "      <td>426</td>\n",
              "    </tr>\n",
              "  </tbody>\n",
              "</table>\n",
              "<p>92834 rows × 5 columns</p>\n",
              "</div>\n",
              "      <button class=\"colab-df-convert\" onclick=\"convertToInteractive('df-4532e452-97bb-458f-b326-e5cec636dcdd')\"\n",
              "              title=\"Convert this dataframe to an interactive table.\"\n",
              "              style=\"display:none;\">\n",
              "        \n",
              "  <svg xmlns=\"http://www.w3.org/2000/svg\" height=\"24px\"viewBox=\"0 0 24 24\"\n",
              "       width=\"24px\">\n",
              "    <path d=\"M0 0h24v24H0V0z\" fill=\"none\"/>\n",
              "    <path d=\"M18.56 5.44l.94 2.06.94-2.06 2.06-.94-2.06-.94-.94-2.06-.94 2.06-2.06.94zm-11 1L8.5 8.5l.94-2.06 2.06-.94-2.06-.94L8.5 2.5l-.94 2.06-2.06.94zm10 10l.94 2.06.94-2.06 2.06-.94-2.06-.94-.94-2.06-.94 2.06-2.06.94z\"/><path d=\"M17.41 7.96l-1.37-1.37c-.4-.4-.92-.59-1.43-.59-.52 0-1.04.2-1.43.59L10.3 9.45l-7.72 7.72c-.78.78-.78 2.05 0 2.83L4 21.41c.39.39.9.59 1.41.59.51 0 1.02-.2 1.41-.59l7.78-7.78 2.81-2.81c.8-.78.8-2.07 0-2.86zM5.41 20L4 18.59l7.72-7.72 1.47 1.35L5.41 20z\"/>\n",
              "  </svg>\n",
              "      </button>\n",
              "      \n",
              "  <style>\n",
              "    .colab-df-container {\n",
              "      display:flex;\n",
              "      flex-wrap:wrap;\n",
              "      gap: 12px;\n",
              "    }\n",
              "\n",
              "    .colab-df-convert {\n",
              "      background-color: #E8F0FE;\n",
              "      border: none;\n",
              "      border-radius: 50%;\n",
              "      cursor: pointer;\n",
              "      display: none;\n",
              "      fill: #1967D2;\n",
              "      height: 32px;\n",
              "      padding: 0 0 0 0;\n",
              "      width: 32px;\n",
              "    }\n",
              "\n",
              "    .colab-df-convert:hover {\n",
              "      background-color: #E2EBFA;\n",
              "      box-shadow: 0px 1px 2px rgba(60, 64, 67, 0.3), 0px 1px 3px 1px rgba(60, 64, 67, 0.15);\n",
              "      fill: #174EA6;\n",
              "    }\n",
              "\n",
              "    [theme=dark] .colab-df-convert {\n",
              "      background-color: #3B4455;\n",
              "      fill: #D2E3FC;\n",
              "    }\n",
              "\n",
              "    [theme=dark] .colab-df-convert:hover {\n",
              "      background-color: #434B5C;\n",
              "      box-shadow: 0px 1px 3px 1px rgba(0, 0, 0, 0.15);\n",
              "      filter: drop-shadow(0px 1px 2px rgba(0, 0, 0, 0.3));\n",
              "      fill: #FFFFFF;\n",
              "    }\n",
              "  </style>\n",
              "\n",
              "      <script>\n",
              "        const buttonEl =\n",
              "          document.querySelector('#df-4532e452-97bb-458f-b326-e5cec636dcdd button.colab-df-convert');\n",
              "        buttonEl.style.display =\n",
              "          google.colab.kernel.accessAllowed ? 'block' : 'none';\n",
              "\n",
              "        async function convertToInteractive(key) {\n",
              "          const element = document.querySelector('#df-4532e452-97bb-458f-b326-e5cec636dcdd');\n",
              "          const dataTable =\n",
              "            await google.colab.kernel.invokeFunction('convertToInteractive',\n",
              "                                                     [key], {});\n",
              "          if (!dataTable) return;\n",
              "\n",
              "          const docLinkHtml = 'Like what you see? Visit the ' +\n",
              "            '<a target=\"_blank\" href=https://colab.research.google.com/notebooks/data_table.ipynb>data table notebook</a>'\n",
              "            + ' to learn more about interactive tables.';\n",
              "          element.innerHTML = '';\n",
              "          dataTable['output_type'] = 'display_data';\n",
              "          await google.colab.output.renderOutput(dataTable, element);\n",
              "          const docLink = document.createElement('div');\n",
              "          docLink.innerHTML = docLinkHtml;\n",
              "          element.appendChild(docLink);\n",
              "        }\n",
              "      </script>\n",
              "    </div>\n",
              "  </div>\n",
              "  "
            ]
          },
          "metadata": {},
          "execution_count": 57
        }
      ]
    },
    {
      "cell_type": "markdown",
      "source": [
        "We merge the artists and user plays and rename the weight column to playCount. Let’s rank the artists based on how much they were played by the users:"
      ],
      "metadata": {
        "id": "l8vyv8F5395h"
      }
    },
    {
      "cell_type": "code",
      "source": [
        "artist_rank = ap.groupby(['name']) \\\n",
        "  .agg({'userID' : 'count', 'playCount' : 'sum'}) \\\n",
        "  .rename(columns={\"userID\" : 'totalUniqueUsers', \"playCount\" : \"totalArtistPlays\"}) \\\n",
        "  .sort_values(['totalArtistPlays'], ascending=False)\n",
        "artist_rank['avgUserPlays'] = artist_rank['totalArtistPlays'] / artist_rank['totalUniqueUsers']"
      ],
      "metadata": {
        "id": "nStK4tPN35Nu"
      },
      "execution_count": null,
      "outputs": []
    },
    {
      "cell_type": "markdown",
      "source": [
        "merge with previous results"
      ],
      "metadata": {
        "id": "Uw5BxgxK4EOp"
      }
    },
    {
      "cell_type": "code",
      "source": [
        "ap = ap.join(artist_rank, on=\"name\", how=\"inner\") \\\n",
        "  .sort_values(['playCount'], ascending=False)"
      ],
      "metadata": {
        "id": "Ohgpkhwf4AvS"
      },
      "execution_count": null,
      "outputs": []
    },
    {
      "cell_type": "code",
      "source": [
        "ap.head()"
      ],
      "metadata": {
        "colab": {
          "base_uri": "https://localhost:8080/",
          "height": 206
        },
        "id": "-PCboVy14I7p",
        "outputId": "08369786-1f1c-476d-84ee-707418621408"
      },
      "execution_count": null,
      "outputs": [
        {
          "output_type": "execute_result",
          "data": {
            "text/plain": [
              "        id          name  userID  artistID  playCount  totalUniqueUsers  \\\n",
              "2800    72  Depeche Mode    1642        72     352698               282   \n",
              "35843  792        Thalía    2071       792     324663                26   \n",
              "27302  511            U2    1094       511     320725               185   \n",
              "8152   203          Blur    1905       203     257978               114   \n",
              "26670  498      Paramore    1664       498     227829               399   \n",
              "\n",
              "       totalArtistPlays  avgUserPlays  \n",
              "2800            1301308   4614.567376  \n",
              "35843            350035  13462.884615  \n",
              "27302            493024   2664.994595  \n",
              "8152             318221   2791.412281  \n",
              "26670            963449   2414.659148  "
            ],
            "text/html": [
              "\n",
              "  <div id=\"df-b2330021-e85a-4c6d-a0cb-dab71ee8a546\">\n",
              "    <div class=\"colab-df-container\">\n",
              "      <div>\n",
              "<style scoped>\n",
              "    .dataframe tbody tr th:only-of-type {\n",
              "        vertical-align: middle;\n",
              "    }\n",
              "\n",
              "    .dataframe tbody tr th {\n",
              "        vertical-align: top;\n",
              "    }\n",
              "\n",
              "    .dataframe thead th {\n",
              "        text-align: right;\n",
              "    }\n",
              "</style>\n",
              "<table border=\"1\" class=\"dataframe\">\n",
              "  <thead>\n",
              "    <tr style=\"text-align: right;\">\n",
              "      <th></th>\n",
              "      <th>id</th>\n",
              "      <th>name</th>\n",
              "      <th>userID</th>\n",
              "      <th>artistID</th>\n",
              "      <th>playCount</th>\n",
              "      <th>totalUniqueUsers</th>\n",
              "      <th>totalArtistPlays</th>\n",
              "      <th>avgUserPlays</th>\n",
              "    </tr>\n",
              "  </thead>\n",
              "  <tbody>\n",
              "    <tr>\n",
              "      <th>2800</th>\n",
              "      <td>72</td>\n",
              "      <td>Depeche Mode</td>\n",
              "      <td>1642</td>\n",
              "      <td>72</td>\n",
              "      <td>352698</td>\n",
              "      <td>282</td>\n",
              "      <td>1301308</td>\n",
              "      <td>4614.567376</td>\n",
              "    </tr>\n",
              "    <tr>\n",
              "      <th>35843</th>\n",
              "      <td>792</td>\n",
              "      <td>Thalía</td>\n",
              "      <td>2071</td>\n",
              "      <td>792</td>\n",
              "      <td>324663</td>\n",
              "      <td>26</td>\n",
              "      <td>350035</td>\n",
              "      <td>13462.884615</td>\n",
              "    </tr>\n",
              "    <tr>\n",
              "      <th>27302</th>\n",
              "      <td>511</td>\n",
              "      <td>U2</td>\n",
              "      <td>1094</td>\n",
              "      <td>511</td>\n",
              "      <td>320725</td>\n",
              "      <td>185</td>\n",
              "      <td>493024</td>\n",
              "      <td>2664.994595</td>\n",
              "    </tr>\n",
              "    <tr>\n",
              "      <th>8152</th>\n",
              "      <td>203</td>\n",
              "      <td>Blur</td>\n",
              "      <td>1905</td>\n",
              "      <td>203</td>\n",
              "      <td>257978</td>\n",
              "      <td>114</td>\n",
              "      <td>318221</td>\n",
              "      <td>2791.412281</td>\n",
              "    </tr>\n",
              "    <tr>\n",
              "      <th>26670</th>\n",
              "      <td>498</td>\n",
              "      <td>Paramore</td>\n",
              "      <td>1664</td>\n",
              "      <td>498</td>\n",
              "      <td>227829</td>\n",
              "      <td>399</td>\n",
              "      <td>963449</td>\n",
              "      <td>2414.659148</td>\n",
              "    </tr>\n",
              "  </tbody>\n",
              "</table>\n",
              "</div>\n",
              "      <button class=\"colab-df-convert\" onclick=\"convertToInteractive('df-b2330021-e85a-4c6d-a0cb-dab71ee8a546')\"\n",
              "              title=\"Convert this dataframe to an interactive table.\"\n",
              "              style=\"display:none;\">\n",
              "        \n",
              "  <svg xmlns=\"http://www.w3.org/2000/svg\" height=\"24px\"viewBox=\"0 0 24 24\"\n",
              "       width=\"24px\">\n",
              "    <path d=\"M0 0h24v24H0V0z\" fill=\"none\"/>\n",
              "    <path d=\"M18.56 5.44l.94 2.06.94-2.06 2.06-.94-2.06-.94-.94-2.06-.94 2.06-2.06.94zm-11 1L8.5 8.5l.94-2.06 2.06-.94-2.06-.94L8.5 2.5l-.94 2.06-2.06.94zm10 10l.94 2.06.94-2.06 2.06-.94-2.06-.94-.94-2.06-.94 2.06-2.06.94z\"/><path d=\"M17.41 7.96l-1.37-1.37c-.4-.4-.92-.59-1.43-.59-.52 0-1.04.2-1.43.59L10.3 9.45l-7.72 7.72c-.78.78-.78 2.05 0 2.83L4 21.41c.39.39.9.59 1.41.59.51 0 1.02-.2 1.41-.59l7.78-7.78 2.81-2.81c.8-.78.8-2.07 0-2.86zM5.41 20L4 18.59l7.72-7.72 1.47 1.35L5.41 20z\"/>\n",
              "  </svg>\n",
              "      </button>\n",
              "      \n",
              "  <style>\n",
              "    .colab-df-container {\n",
              "      display:flex;\n",
              "      flex-wrap:wrap;\n",
              "      gap: 12px;\n",
              "    }\n",
              "\n",
              "    .colab-df-convert {\n",
              "      background-color: #E8F0FE;\n",
              "      border: none;\n",
              "      border-radius: 50%;\n",
              "      cursor: pointer;\n",
              "      display: none;\n",
              "      fill: #1967D2;\n",
              "      height: 32px;\n",
              "      padding: 0 0 0 0;\n",
              "      width: 32px;\n",
              "    }\n",
              "\n",
              "    .colab-df-convert:hover {\n",
              "      background-color: #E2EBFA;\n",
              "      box-shadow: 0px 1px 2px rgba(60, 64, 67, 0.3), 0px 1px 3px 1px rgba(60, 64, 67, 0.15);\n",
              "      fill: #174EA6;\n",
              "    }\n",
              "\n",
              "    [theme=dark] .colab-df-convert {\n",
              "      background-color: #3B4455;\n",
              "      fill: #D2E3FC;\n",
              "    }\n",
              "\n",
              "    [theme=dark] .colab-df-convert:hover {\n",
              "      background-color: #434B5C;\n",
              "      box-shadow: 0px 1px 3px 1px rgba(0, 0, 0, 0.15);\n",
              "      filter: drop-shadow(0px 1px 2px rgba(0, 0, 0, 0.3));\n",
              "      fill: #FFFFFF;\n",
              "    }\n",
              "  </style>\n",
              "\n",
              "      <script>\n",
              "        const buttonEl =\n",
              "          document.querySelector('#df-b2330021-e85a-4c6d-a0cb-dab71ee8a546 button.colab-df-convert');\n",
              "        buttonEl.style.display =\n",
              "          google.colab.kernel.accessAllowed ? 'block' : 'none';\n",
              "\n",
              "        async function convertToInteractive(key) {\n",
              "          const element = document.querySelector('#df-b2330021-e85a-4c6d-a0cb-dab71ee8a546');\n",
              "          const dataTable =\n",
              "            await google.colab.kernel.invokeFunction('convertToInteractive',\n",
              "                                                     [key], {});\n",
              "          if (!dataTable) return;\n",
              "\n",
              "          const docLinkHtml = 'Like what you see? Visit the ' +\n",
              "            '<a target=\"_blank\" href=https://colab.research.google.com/notebooks/data_table.ipynb>data table notebook</a>'\n",
              "            + ' to learn more about interactive tables.';\n",
              "          element.innerHTML = '';\n",
              "          dataTable['output_type'] = 'display_data';\n",
              "          await google.colab.output.renderOutput(dataTable, element);\n",
              "          const docLink = document.createElement('div');\n",
              "          docLink.innerHTML = docLinkHtml;\n",
              "          element.appendChild(docLink);\n",
              "        }\n",
              "      </script>\n",
              "    </div>\n",
              "  </div>\n",
              "  "
            ]
          },
          "metadata": {},
          "execution_count": 60
        }
      ]
    },
    {
      "cell_type": "markdown",
      "source": [
        "VISUALISATION"
      ],
      "metadata": {
        "id": "k5PDkfKh4wE4"
      }
    },
    {
      "cell_type": "code",
      "source": [
        "def bar_chart_int(x,y,x_label,y_label,title,caption,total_val):\n",
        "    fig, ax = plt.subplots()\n",
        "    fig.set_size_inches(16, 5)\n",
        "    ax = sns.barplot(x[:20], y[:20], palette='Blues_r')\n",
        "    ax.set_xlabel(x_label)\n",
        "    ax.set_ylabel(y_label)\n",
        "    ax.set_title(title)\n",
        "    ax.get_yaxis().set_major_formatter(ticker.FuncFormatter(lambda x, p: '{:,}'.format(int(x))))\n",
        "\n",
        "    # our bar label placement\n",
        "    for p in ax.patches:\n",
        "        height = p.get_height()\n",
        "        pct = 100*(height/total_val)\n",
        "        ax.text(p.get_x()+p.get_width()/2.,\n",
        "                height + 3,\n",
        "                '{:1.1f}%'.format(pct),\n",
        "                ha=\"center\",verticalalignment='bottom',color='black', fontsize=12) \n",
        "\n",
        "    # our caption statement\n",
        "    ax.text(19, max(y[:20])*0.95, caption,horizontalalignment='right')\n",
        "\n",
        "    plt.xticks(rotation=90)\n",
        "    plt.show()"
      ],
      "metadata": {
        "id": "AyIXaNL8-eG2"
      },
      "execution_count": null,
      "outputs": []
    },
    {
      "cell_type": "code",
      "source": [
        "artist_rank.head()"
      ],
      "metadata": {
        "colab": {
          "base_uri": "https://localhost:8080/",
          "height": 238
        },
        "id": "vsXZDni-43Tj",
        "outputId": "934d7315-321f-4c8b-89f7-a12451e42b03"
      },
      "execution_count": null,
      "outputs": [
        {
          "output_type": "execute_result",
          "data": {
            "text/plain": [
              "                    totalUniqueUsers  totalArtistPlays  avgUserPlays\n",
              "name                                                                \n",
              "Britney Spears                   522           2393140   4584.559387\n",
              "Depeche Mode                     282           1301308   4614.567376\n",
              "Lady Gaga                        611           1291387   2113.563011\n",
              "Christina Aguilera               407           1058405   2600.503686\n",
              "Paramore                         399            963449   2414.659148"
            ],
            "text/html": [
              "\n",
              "  <div id=\"df-831d4d68-67c2-44f8-a875-8c02d7f8a1a7\">\n",
              "    <div class=\"colab-df-container\">\n",
              "      <div>\n",
              "<style scoped>\n",
              "    .dataframe tbody tr th:only-of-type {\n",
              "        vertical-align: middle;\n",
              "    }\n",
              "\n",
              "    .dataframe tbody tr th {\n",
              "        vertical-align: top;\n",
              "    }\n",
              "\n",
              "    .dataframe thead th {\n",
              "        text-align: right;\n",
              "    }\n",
              "</style>\n",
              "<table border=\"1\" class=\"dataframe\">\n",
              "  <thead>\n",
              "    <tr style=\"text-align: right;\">\n",
              "      <th></th>\n",
              "      <th>totalUniqueUsers</th>\n",
              "      <th>totalArtistPlays</th>\n",
              "      <th>avgUserPlays</th>\n",
              "    </tr>\n",
              "    <tr>\n",
              "      <th>name</th>\n",
              "      <th></th>\n",
              "      <th></th>\n",
              "      <th></th>\n",
              "    </tr>\n",
              "  </thead>\n",
              "  <tbody>\n",
              "    <tr>\n",
              "      <th>Britney Spears</th>\n",
              "      <td>522</td>\n",
              "      <td>2393140</td>\n",
              "      <td>4584.559387</td>\n",
              "    </tr>\n",
              "    <tr>\n",
              "      <th>Depeche Mode</th>\n",
              "      <td>282</td>\n",
              "      <td>1301308</td>\n",
              "      <td>4614.567376</td>\n",
              "    </tr>\n",
              "    <tr>\n",
              "      <th>Lady Gaga</th>\n",
              "      <td>611</td>\n",
              "      <td>1291387</td>\n",
              "      <td>2113.563011</td>\n",
              "    </tr>\n",
              "    <tr>\n",
              "      <th>Christina Aguilera</th>\n",
              "      <td>407</td>\n",
              "      <td>1058405</td>\n",
              "      <td>2600.503686</td>\n",
              "    </tr>\n",
              "    <tr>\n",
              "      <th>Paramore</th>\n",
              "      <td>399</td>\n",
              "      <td>963449</td>\n",
              "      <td>2414.659148</td>\n",
              "    </tr>\n",
              "  </tbody>\n",
              "</table>\n",
              "</div>\n",
              "      <button class=\"colab-df-convert\" onclick=\"convertToInteractive('df-831d4d68-67c2-44f8-a875-8c02d7f8a1a7')\"\n",
              "              title=\"Convert this dataframe to an interactive table.\"\n",
              "              style=\"display:none;\">\n",
              "        \n",
              "  <svg xmlns=\"http://www.w3.org/2000/svg\" height=\"24px\"viewBox=\"0 0 24 24\"\n",
              "       width=\"24px\">\n",
              "    <path d=\"M0 0h24v24H0V0z\" fill=\"none\"/>\n",
              "    <path d=\"M18.56 5.44l.94 2.06.94-2.06 2.06-.94-2.06-.94-.94-2.06-.94 2.06-2.06.94zm-11 1L8.5 8.5l.94-2.06 2.06-.94-2.06-.94L8.5 2.5l-.94 2.06-2.06.94zm10 10l.94 2.06.94-2.06 2.06-.94-2.06-.94-.94-2.06-.94 2.06-2.06.94z\"/><path d=\"M17.41 7.96l-1.37-1.37c-.4-.4-.92-.59-1.43-.59-.52 0-1.04.2-1.43.59L10.3 9.45l-7.72 7.72c-.78.78-.78 2.05 0 2.83L4 21.41c.39.39.9.59 1.41.59.51 0 1.02-.2 1.41-.59l7.78-7.78 2.81-2.81c.8-.78.8-2.07 0-2.86zM5.41 20L4 18.59l7.72-7.72 1.47 1.35L5.41 20z\"/>\n",
              "  </svg>\n",
              "      </button>\n",
              "      \n",
              "  <style>\n",
              "    .colab-df-container {\n",
              "      display:flex;\n",
              "      flex-wrap:wrap;\n",
              "      gap: 12px;\n",
              "    }\n",
              "\n",
              "    .colab-df-convert {\n",
              "      background-color: #E8F0FE;\n",
              "      border: none;\n",
              "      border-radius: 50%;\n",
              "      cursor: pointer;\n",
              "      display: none;\n",
              "      fill: #1967D2;\n",
              "      height: 32px;\n",
              "      padding: 0 0 0 0;\n",
              "      width: 32px;\n",
              "    }\n",
              "\n",
              "    .colab-df-convert:hover {\n",
              "      background-color: #E2EBFA;\n",
              "      box-shadow: 0px 1px 2px rgba(60, 64, 67, 0.3), 0px 1px 3px 1px rgba(60, 64, 67, 0.15);\n",
              "      fill: #174EA6;\n",
              "    }\n",
              "\n",
              "    [theme=dark] .colab-df-convert {\n",
              "      background-color: #3B4455;\n",
              "      fill: #D2E3FC;\n",
              "    }\n",
              "\n",
              "    [theme=dark] .colab-df-convert:hover {\n",
              "      background-color: #434B5C;\n",
              "      box-shadow: 0px 1px 3px 1px rgba(0, 0, 0, 0.15);\n",
              "      filter: drop-shadow(0px 1px 2px rgba(0, 0, 0, 0.3));\n",
              "      fill: #FFFFFF;\n",
              "    }\n",
              "  </style>\n",
              "\n",
              "      <script>\n",
              "        const buttonEl =\n",
              "          document.querySelector('#df-831d4d68-67c2-44f8-a875-8c02d7f8a1a7 button.colab-df-convert');\n",
              "        buttonEl.style.display =\n",
              "          google.colab.kernel.accessAllowed ? 'block' : 'none';\n",
              "\n",
              "        async function convertToInteractive(key) {\n",
              "          const element = document.querySelector('#df-831d4d68-67c2-44f8-a875-8c02d7f8a1a7');\n",
              "          const dataTable =\n",
              "            await google.colab.kernel.invokeFunction('convertToInteractive',\n",
              "                                                     [key], {});\n",
              "          if (!dataTable) return;\n",
              "\n",
              "          const docLinkHtml = 'Like what you see? Visit the ' +\n",
              "            '<a target=\"_blank\" href=https://colab.research.google.com/notebooks/data_table.ipynb>data table notebook</a>'\n",
              "            + ' to learn more about interactive tables.';\n",
              "          element.innerHTML = '';\n",
              "          dataTable['output_type'] = 'display_data';\n",
              "          await google.colab.output.renderOutput(dataTable, element);\n",
              "          const docLink = document.createElement('div');\n",
              "          docLink.innerHTML = docLinkHtml;\n",
              "          element.appendChild(docLink);\n",
              "        }\n",
              "      </script>\n",
              "    </div>\n",
              "  </div>\n",
              "  "
            ]
          },
          "metadata": {},
          "execution_count": 61
        }
      ]
    },
    {
      "cell_type": "code",
      "source": [
        "ap.head()"
      ],
      "metadata": {
        "colab": {
          "base_uri": "https://localhost:8080/",
          "height": 206
        },
        "id": "S2_enjNr-hSW",
        "outputId": "3d35f4b6-344a-4d80-d727-29995682d317"
      },
      "execution_count": null,
      "outputs": [
        {
          "output_type": "execute_result",
          "data": {
            "text/plain": [
              "        id          name  userID  artistID  playCount  totalUniqueUsers  \\\n",
              "2800    72  Depeche Mode    1642        72     352698               282   \n",
              "35843  792        Thalía    2071       792     324663                26   \n",
              "27302  511            U2    1094       511     320725               185   \n",
              "8152   203          Blur    1905       203     257978               114   \n",
              "26670  498      Paramore    1664       498     227829               399   \n",
              "\n",
              "       totalArtistPlays  avgUserPlays  \n",
              "2800            1301308   4614.567376  \n",
              "35843            350035  13462.884615  \n",
              "27302            493024   2664.994595  \n",
              "8152             318221   2791.412281  \n",
              "26670            963449   2414.659148  "
            ],
            "text/html": [
              "\n",
              "  <div id=\"df-b0dcdc34-91d4-4316-978f-a4e8aff645a8\">\n",
              "    <div class=\"colab-df-container\">\n",
              "      <div>\n",
              "<style scoped>\n",
              "    .dataframe tbody tr th:only-of-type {\n",
              "        vertical-align: middle;\n",
              "    }\n",
              "\n",
              "    .dataframe tbody tr th {\n",
              "        vertical-align: top;\n",
              "    }\n",
              "\n",
              "    .dataframe thead th {\n",
              "        text-align: right;\n",
              "    }\n",
              "</style>\n",
              "<table border=\"1\" class=\"dataframe\">\n",
              "  <thead>\n",
              "    <tr style=\"text-align: right;\">\n",
              "      <th></th>\n",
              "      <th>id</th>\n",
              "      <th>name</th>\n",
              "      <th>userID</th>\n",
              "      <th>artistID</th>\n",
              "      <th>playCount</th>\n",
              "      <th>totalUniqueUsers</th>\n",
              "      <th>totalArtistPlays</th>\n",
              "      <th>avgUserPlays</th>\n",
              "    </tr>\n",
              "  </thead>\n",
              "  <tbody>\n",
              "    <tr>\n",
              "      <th>2800</th>\n",
              "      <td>72</td>\n",
              "      <td>Depeche Mode</td>\n",
              "      <td>1642</td>\n",
              "      <td>72</td>\n",
              "      <td>352698</td>\n",
              "      <td>282</td>\n",
              "      <td>1301308</td>\n",
              "      <td>4614.567376</td>\n",
              "    </tr>\n",
              "    <tr>\n",
              "      <th>35843</th>\n",
              "      <td>792</td>\n",
              "      <td>Thalía</td>\n",
              "      <td>2071</td>\n",
              "      <td>792</td>\n",
              "      <td>324663</td>\n",
              "      <td>26</td>\n",
              "      <td>350035</td>\n",
              "      <td>13462.884615</td>\n",
              "    </tr>\n",
              "    <tr>\n",
              "      <th>27302</th>\n",
              "      <td>511</td>\n",
              "      <td>U2</td>\n",
              "      <td>1094</td>\n",
              "      <td>511</td>\n",
              "      <td>320725</td>\n",
              "      <td>185</td>\n",
              "      <td>493024</td>\n",
              "      <td>2664.994595</td>\n",
              "    </tr>\n",
              "    <tr>\n",
              "      <th>8152</th>\n",
              "      <td>203</td>\n",
              "      <td>Blur</td>\n",
              "      <td>1905</td>\n",
              "      <td>203</td>\n",
              "      <td>257978</td>\n",
              "      <td>114</td>\n",
              "      <td>318221</td>\n",
              "      <td>2791.412281</td>\n",
              "    </tr>\n",
              "    <tr>\n",
              "      <th>26670</th>\n",
              "      <td>498</td>\n",
              "      <td>Paramore</td>\n",
              "      <td>1664</td>\n",
              "      <td>498</td>\n",
              "      <td>227829</td>\n",
              "      <td>399</td>\n",
              "      <td>963449</td>\n",
              "      <td>2414.659148</td>\n",
              "    </tr>\n",
              "  </tbody>\n",
              "</table>\n",
              "</div>\n",
              "      <button class=\"colab-df-convert\" onclick=\"convertToInteractive('df-b0dcdc34-91d4-4316-978f-a4e8aff645a8')\"\n",
              "              title=\"Convert this dataframe to an interactive table.\"\n",
              "              style=\"display:none;\">\n",
              "        \n",
              "  <svg xmlns=\"http://www.w3.org/2000/svg\" height=\"24px\"viewBox=\"0 0 24 24\"\n",
              "       width=\"24px\">\n",
              "    <path d=\"M0 0h24v24H0V0z\" fill=\"none\"/>\n",
              "    <path d=\"M18.56 5.44l.94 2.06.94-2.06 2.06-.94-2.06-.94-.94-2.06-.94 2.06-2.06.94zm-11 1L8.5 8.5l.94-2.06 2.06-.94-2.06-.94L8.5 2.5l-.94 2.06-2.06.94zm10 10l.94 2.06.94-2.06 2.06-.94-2.06-.94-.94-2.06-.94 2.06-2.06.94z\"/><path d=\"M17.41 7.96l-1.37-1.37c-.4-.4-.92-.59-1.43-.59-.52 0-1.04.2-1.43.59L10.3 9.45l-7.72 7.72c-.78.78-.78 2.05 0 2.83L4 21.41c.39.39.9.59 1.41.59.51 0 1.02-.2 1.41-.59l7.78-7.78 2.81-2.81c.8-.78.8-2.07 0-2.86zM5.41 20L4 18.59l7.72-7.72 1.47 1.35L5.41 20z\"/>\n",
              "  </svg>\n",
              "      </button>\n",
              "      \n",
              "  <style>\n",
              "    .colab-df-container {\n",
              "      display:flex;\n",
              "      flex-wrap:wrap;\n",
              "      gap: 12px;\n",
              "    }\n",
              "\n",
              "    .colab-df-convert {\n",
              "      background-color: #E8F0FE;\n",
              "      border: none;\n",
              "      border-radius: 50%;\n",
              "      cursor: pointer;\n",
              "      display: none;\n",
              "      fill: #1967D2;\n",
              "      height: 32px;\n",
              "      padding: 0 0 0 0;\n",
              "      width: 32px;\n",
              "    }\n",
              "\n",
              "    .colab-df-convert:hover {\n",
              "      background-color: #E2EBFA;\n",
              "      box-shadow: 0px 1px 2px rgba(60, 64, 67, 0.3), 0px 1px 3px 1px rgba(60, 64, 67, 0.15);\n",
              "      fill: #174EA6;\n",
              "    }\n",
              "\n",
              "    [theme=dark] .colab-df-convert {\n",
              "      background-color: #3B4455;\n",
              "      fill: #D2E3FC;\n",
              "    }\n",
              "\n",
              "    [theme=dark] .colab-df-convert:hover {\n",
              "      background-color: #434B5C;\n",
              "      box-shadow: 0px 1px 3px 1px rgba(0, 0, 0, 0.15);\n",
              "      filter: drop-shadow(0px 1px 2px rgba(0, 0, 0, 0.3));\n",
              "      fill: #FFFFFF;\n",
              "    }\n",
              "  </style>\n",
              "\n",
              "      <script>\n",
              "        const buttonEl =\n",
              "          document.querySelector('#df-b0dcdc34-91d4-4316-978f-a4e8aff645a8 button.colab-df-convert');\n",
              "        buttonEl.style.display =\n",
              "          google.colab.kernel.accessAllowed ? 'block' : 'none';\n",
              "\n",
              "        async function convertToInteractive(key) {\n",
              "          const element = document.querySelector('#df-b0dcdc34-91d4-4316-978f-a4e8aff645a8');\n",
              "          const dataTable =\n",
              "            await google.colab.kernel.invokeFunction('convertToInteractive',\n",
              "                                                     [key], {});\n",
              "          if (!dataTable) return;\n",
              "\n",
              "          const docLinkHtml = 'Like what you see? Visit the ' +\n",
              "            '<a target=\"_blank\" href=https://colab.research.google.com/notebooks/data_table.ipynb>data table notebook</a>'\n",
              "            + ' to learn more about interactive tables.';\n",
              "          element.innerHTML = '';\n",
              "          dataTable['output_type'] = 'display_data';\n",
              "          await google.colab.output.renderOutput(dataTable, element);\n",
              "          const docLink = document.createElement('div');\n",
              "          docLink.innerHTML = docLinkHtml;\n",
              "          element.appendChild(docLink);\n",
              "        }\n",
              "      </script>\n",
              "    </div>\n",
              "  </div>\n",
              "  "
            ]
          },
          "metadata": {},
          "execution_count": 71
        }
      ]
    },
    {
      "cell_type": "code",
      "source": [
        "ax = ap.playCount.value_counts().hist(bins=100)\n",
        "ax.set_xlim((0, 200))\n",
        "ax.set_title(\"Artist played count\")\n",
        "ax.set_xlabel(\"user count\")\n",
        "ax.set_ylabel(\"played times\");"
      ],
      "metadata": {
        "colab": {
          "base_uri": "https://localhost:8080/",
          "height": 526
        },
        "id": "t-paWtyd46Jr",
        "outputId": "8ad9a227-ae2e-4768-f0fa-4324e95044c9"
      },
      "execution_count": null,
      "outputs": [
        {
          "output_type": "display_data",
          "data": {
            "text/plain": [
              "<Figure size 1008x576 with 1 Axes>"
            ],
            "image/png": "[encoded data removed]"
          },
          "metadata": {}
        }
      ]
    },
    {
      "cell_type": "code",
      "source": [
        "\n",
        "top_artists = artist_rank.sort_values(['totalArtistPlays'],ascending=False).index[:12]\n",
        "\n",
        "x = artist_rank.totalUniqueUsers\n",
        "y = artist_rank.totalArtistPlays\n",
        "labels = artist_rank.index\n",
        "\n",
        "fig, ax = plt.subplots(figsize=(15,10))\n",
        "sns.regplot(x,y)\n",
        "ax.set_title('Artist Popularity: Play Count vs Unique Users')\n",
        "ax.yaxis.set_major_formatter(ticker.FuncFormatter(lambda y, _: '{:,.0f}'.format(y)))\n",
        "ax.set_xlabel('Total Unique Users')\n",
        "ax.set_ylabel('Total Artist Plays')\n",
        "\n",
        "for i, t in enumerate(labels):\n",
        "    if t in top_artists:\n",
        "        ax.annotate(t,(x[i],y[i]))"
      ],
      "metadata": {
        "colab": {
          "base_uri": "https://localhost:8080/",
          "height": 690
        },
        "id": "3OX8-scE5H8n",
        "outputId": "78dd33b3-16f8-4f84-8c47-da72a6deeedf"
      },
      "execution_count": null,
      "outputs": [
        {
          "output_type": "stream",
          "name": "stderr",
          "text": [
            "/usr/local/lib/python3.7/dist-packages/seaborn/_decorators.py:43: FutureWarning: Pass the following variables as keyword args: x, y. From version 0.12, the only valid positional argument will be `data`, and passing other arguments without an explicit keyword will result in an error or misinterpretation.\n",
            "  FutureWarning\n"
          ]
        },
        {
          "output_type": "display_data",
          "data": {
            "text/plain": [
              "<Figure size 1080x720 with 1 Axes>"
            ],
            "image/png": "[encoded data removed]"
          },
          "metadata": {}
        }
      ]
    },
    {
      "cell_type": "markdown",
      "source": [
        "MAKING RECOMMENDATIONS USING SGD"
      ],
      "metadata": {
        "id": "pdG-dJRQ5PIK"
      }
    },
    {
      "cell_type": "code",
      "source": [
        "pc = ap.playCount\n",
        "play_count_scaled = (pc - pc.min()) / (pc.max() - pc.min())\n",
        "\n",
        "ap = ap.assign(playCountScaled=play_count_scaled)"
      ],
      "metadata": {
        "id": "dfeE5wBm5iHu"
      },
      "execution_count": null,
      "outputs": []
    },
    {
      "cell_type": "code",
      "source": [
        "ratings_df = ap.pivot(\n",
        "    index='userID', \n",
        "    columns='artistID', \n",
        "    values='playCountScaled'\n",
        ")"
      ],
      "metadata": {
        "id": "ZKl1jjQg5kHI"
      },
      "execution_count": null,
      "outputs": []
    },
    {
      "cell_type": "code",
      "source": [
        "ratings = ratings_df.fillna(0).values"
      ],
      "metadata": {
        "id": "dw548mXl5mf6"
      },
      "execution_count": null,
      "outputs": []
    },
    {
      "cell_type": "code",
      "source": [
        "train, val = train_test_split(ratings)"
      ],
      "metadata": {
        "id": "sf4evgeI5a3I"
      },
      "execution_count": null,
      "outputs": []
    },
    {
      "cell_type": "code",
      "source": [
        "MIN_USER_RATINGS = 35\n",
        "DELETE_RATING_COUNT = 15\n",
        "\n",
        "def train_test_split(ratings):\n",
        "    \n",
        "    validation = np.zeros(ratings.shape)\n",
        "    train = ratings.copy()\n",
        "    \n",
        "    for user in np.arange(ratings.shape[0]):\n",
        "        if len(ratings[user,:].nonzero()[0]) >= MIN_USER_RATINGS:\n",
        "            val_ratings = np.random.choice(\n",
        "                ratings[user, :].nonzero()[0], \n",
        "                size=DELETE_RATING_COUNT,\n",
        "                replace=False\n",
        "            )\n",
        "            train[user, val_ratings] = 0\n",
        "            validation[user, val_ratings] = ratings[user, val_ratings]\n",
        "    return train, validation"
      ],
      "metadata": {
        "id": "7FtBXM7k5K1L"
      },
      "execution_count": null,
      "outputs": []
    },
    {
      "cell_type": "code",
      "source": [
        "train.shape"
      ],
      "metadata": {
        "colab": {
          "base_uri": "https://localhost:8080/"
        },
        "id": "rXjKY9OL5dAm",
        "outputId": "0c395f23-c08c-4cd7-8164-06bf31ce9166"
      },
      "execution_count": null,
      "outputs": [
        {
          "output_type": "execute_result",
          "data": {
            "text/plain": [
              "(1892, 17632)"
            ]
          },
          "metadata": {},
          "execution_count": 82
        }
      ]
    },
    {
      "cell_type": "markdown",
      "source": [
        "MEASURING THE ERROR"
      ],
      "metadata": {
        "id": "H7xR2gP9BJz7"
      }
    },
    {
      "cell_type": "code",
      "source": [
        "def rmse(prediction, ground_truth):\n",
        "    prediction = prediction[ground_truth.nonzero()].flatten() \n",
        "    ground_truth = ground_truth[ground_truth.nonzero()].flatten()\n",
        "    return sqrt(mean_squared_error(prediction, ground_truth))"
      ],
      "metadata": {
        "id": "YZVFNkmf5qdF"
      },
      "execution_count": null,
      "outputs": []
    },
    {
      "cell_type": "markdown",
      "source": [
        "Let’s use SGD to train our recommender"
      ],
      "metadata": {
        "id": "ij01-QzXBlwj"
      }
    },
    {
      "cell_type": "code",
      "source": [
        "def fit(self, X_train, X_val):\n",
        "  m, n = X_train.shape\n",
        "  self.P = 3 * np.random.rand(self.n_latent_features, m)\n",
        "  self.Q = 3 * np.random.rand(self.n_latent_features, n)\n",
        "  self.train_error = []\n",
        "  self.val_error = []\n",
        "  users, items = X_train.nonzero()\n",
        "  for epoch in range(self.n_epochs):\n",
        "      for u, i in zip(users, items):\n",
        "          error = X_train[u, i] - self.predictions(self.P[:,u], self.Q[:,i])\n",
        "          self.P[:, u] += self.learning_rate * \\\n",
        "           (error * self.Q[:, i] - self.lmbda * self.P[:, u])\n",
        "          self.Q[:, i] += self.learning_rate * \\\n",
        "           (error * self.P[:, u] - self.lmbda * self.Q[:, i])\n",
        "      train_rmse = rmse(self.predictions(self.P, self.Q), X_train)\n",
        "      val_rmse = rmse(self.predictions(self.P, self.Q), X_val)\n",
        "      self.train_error.append(train_rmse)\n",
        "      self.val_error.append(val_rmse)"
      ],
      "metadata": {
        "id": "HIx116iT_ZY1"
      },
      "execution_count": null,
      "outputs": []
    },
    {
      "cell_type": "markdown",
      "source": [
        "PREDICTIONS:\n",
        "We start by creating 2 matrixes for the latent features of the users and ratings. For each user, item pair, we calculate the error ( use a simple difference of the existing and predicted ratings). We then update PP and QQ using Gradient Descent.\n",
        "\n",
        "After each training epoch, we calculate the training and validation errors and store their values to analyze later."
      ],
      "metadata": {
        "id": "drLimJOxBouo"
      }
    },
    {
      "cell_type": "code",
      "source": [
        "def predictions(self, P, Q):\n",
        "  return np.dot(P.T, Q)\n"
      ],
      "metadata": {
        "id": "7CjVNzMZAzUp"
      },
      "execution_count": null,
      "outputs": []
    },
    {
      "cell_type": "code",
      "source": [
        "def predict(self, X_train, user_index):\n",
        "  y_hat = self.predictions(self.P, self.Q)\n",
        "  predictions_index = np.where(X_train[user_index, :] == 0)[0]\n",
        "  return y_hat[user_index, predictions_index].flatten()"
      ],
      "metadata": {
        "id": "4AiHhP9VA8f9"
      },
      "execution_count": null,
      "outputs": []
    },
    {
      "cell_type": "code",
      "source": [
        "recommender = Recommender().fit(train, val)"
      ],
      "metadata": {
        "id": "HOYRde8CCCou"
      },
      "execution_count": null,
      "outputs": []
    },
    {
      "cell_type": "code",
      "source": [
        "user_id = 1236\n",
        "user_index = ratings_df.index.get_loc(user_id)\n",
        "predictions_index = np.where(train[user_index, :] == 0)[0]\n",
        "rating_predictions = recommender.predict(train, user_index)"
      ],
      "metadata": {
        "id": "UU_x_1hCB2ck"
      },
      "execution_count": null,
      "outputs": []
    },
    {
      "cell_type": "code",
      "source": [
        "def create_artist_ratings(artists_df, artists_index, ratings, n=10):\n",
        "  artist_ids = ratings_df.columns[artists_index]\n",
        "  artist_ratings = pd.DataFrame(data=dict(artistId=artist_ids, rating=ratings))\n",
        "  top_n_artists = artist_ratings.sort_values(\"rating\", ascending=False).head(n)\n",
        "  \n",
        "  artist_recommendations = artists_df[artists_df.id.isin(top_n_artists.artistId)].reset_index(drop=True)\n",
        "  artist_recommendations['rating'] = pd.Series(top_n_artists.rating.values)\n",
        "  return artist_recommendations.sort_values(\"rating\", ascending=False)"
      ],
      "metadata": {
        "id": "Rnfmm60KEzwP"
      },
      "execution_count": null,
      "outputs": []
    },
    {
      "cell_type": "code",
      "source": [
        "existing_ratings_index = np.where(train[user_index, :] > 0)[0]\n",
        "existing_ratings = train[user_index, existing_ratings_index]\n",
        "\n",
        "\n",
        "create_artist_ratings(artists, existing_ratings_index, existing_ratings)"
      ],
      "metadata": {
        "colab": {
          "base_uri": "https://localhost:8080/",
          "height": 363
        },
        "id": "rAVgqDtpCji9",
        "outputId": "3d0aceba-3e5e-4eb2-85b7-37eb60b1d871"
      },
      "execution_count": null,
      "outputs": [
        {
          "output_type": "execute_result",
          "data": {
            "text/plain": [
              "     id               name    rating\n",
              "0     7     Marilyn Manson  0.196486\n",
              "1   472       3 Doors Down  0.043204\n",
              "2   614          Pearl Jam  0.042016\n",
              "3   923  Children of Bodom  0.025657\n",
              "4   978          Disturbed  0.021690\n",
              "5  1104          Rammstein  0.021562\n",
              "6  1118   A Perfect Circle  0.020879\n",
              "7  2172             Gojira  0.017051\n",
              "8  6257         Rob Zombie  0.016280\n",
              "9  6618                D12  0.010990"
            ],
            "text/html": [
              "\n",
              "  <div id=\"df-a1d1944e-475d-4e43-aeea-53061a38b93f\">\n",
              "    <div class=\"colab-df-container\">\n",
              "      <div>\n",
              "<style scoped>\n",
              "    .dataframe tbody tr th:only-of-type {\n",
              "        vertical-align: middle;\n",
              "    }\n",
              "\n",
              "    .dataframe tbody tr th {\n",
              "        vertical-align: top;\n",
              "    }\n",
              "\n",
              "    .dataframe thead th {\n",
              "        text-align: right;\n",
              "    }\n",
              "</style>\n",
              "<table border=\"1\" class=\"dataframe\">\n",
              "  <thead>\n",
              "    <tr style=\"text-align: right;\">\n",
              "      <th></th>\n",
              "      <th>id</th>\n",
              "      <th>name</th>\n",
              "      <th>rating</th>\n",
              "    </tr>\n",
              "  </thead>\n",
              "  <tbody>\n",
              "    <tr>\n",
              "      <th>0</th>\n",
              "      <td>7</td>\n",
              "      <td>Marilyn Manson</td>\n",
              "      <td>0.196486</td>\n",
              "    </tr>\n",
              "    <tr>\n",
              "      <th>1</th>\n",
              "      <td>472</td>\n",
              "      <td>3 Doors Down</td>\n",
              "      <td>0.043204</td>\n",
              "    </tr>\n",
              "    <tr>\n",
              "      <th>2</th>\n",
              "      <td>614</td>\n",
              "      <td>Pearl Jam</td>\n",
              "      <td>0.042016</td>\n",
              "    </tr>\n",
              "    <tr>\n",
              "      <th>3</th>\n",
              "      <td>923</td>\n",
              "      <td>Children of Bodom</td>\n",
              "      <td>0.025657</td>\n",
              "    </tr>\n",
              "    <tr>\n",
              "      <th>4</th>\n",
              "      <td>978</td>\n",
              "      <td>Disturbed</td>\n",
              "      <td>0.021690</td>\n",
              "    </tr>\n",
              "    <tr>\n",
              "      <th>5</th>\n",
              "      <td>1104</td>\n",
              "      <td>Rammstein</td>\n",
              "      <td>0.021562</td>\n",
              "    </tr>\n",
              "    <tr>\n",
              "      <th>6</th>\n",
              "      <td>1118</td>\n",
              "      <td>A Perfect Circle</td>\n",
              "      <td>0.020879</td>\n",
              "    </tr>\n",
              "    <tr>\n",
              "      <th>7</th>\n",
              "      <td>2172</td>\n",
              "      <td>Gojira</td>\n",
              "      <td>0.017051</td>\n",
              "    </tr>\n",
              "    <tr>\n",
              "      <th>8</th>\n",
              "      <td>6257</td>\n",
              "      <td>Rob Zombie</td>\n",
              "      <td>0.016280</td>\n",
              "    </tr>\n",
              "    <tr>\n",
              "      <th>9</th>\n",
              "      <td>6618</td>\n",
              "      <td>D12</td>\n",
              "      <td>0.010990</td>\n",
              "    </tr>\n",
              "  </tbody>\n",
              "</table>\n",
              "</div>\n",
              "      <button class=\"colab-df-convert\" onclick=\"convertToInteractive('df-a1d1944e-475d-4e43-aeea-53061a38b93f')\"\n",
              "              title=\"Convert this dataframe to an interactive table.\"\n",
              "              style=\"display:none;\">\n",
              "        \n",
              "  <svg xmlns=\"http://www.w3.org/2000/svg\" height=\"24px\"viewBox=\"0 0 24 24\"\n",
              "       width=\"24px\">\n",
              "    <path d=\"M0 0h24v24H0V0z\" fill=\"none\"/>\n",
              "    <path d=\"M18.56 5.44l.94 2.06.94-2.06 2.06-.94-2.06-.94-.94-2.06-.94 2.06-2.06.94zm-11 1L8.5 8.5l.94-2.06 2.06-.94-2.06-.94L8.5 2.5l-.94 2.06-2.06.94zm10 10l.94 2.06.94-2.06 2.06-.94-2.06-.94-.94-2.06-.94 2.06-2.06.94z\"/><path d=\"M17.41 7.96l-1.37-1.37c-.4-.4-.92-.59-1.43-.59-.52 0-1.04.2-1.43.59L10.3 9.45l-7.72 7.72c-.78.78-.78 2.05 0 2.83L4 21.41c.39.39.9.59 1.41.59.51 0 1.02-.2 1.41-.59l7.78-7.78 2.81-2.81c.8-.78.8-2.07 0-2.86zM5.41 20L4 18.59l7.72-7.72 1.47 1.35L5.41 20z\"/>\n",
              "  </svg>\n",
              "      </button>\n",
              "      \n",
              "  <style>\n",
              "    .colab-df-container {\n",
              "      display:flex;\n",
              "      flex-wrap:wrap;\n",
              "      gap: 12px;\n",
              "    }\n",
              "\n",
              "    .colab-df-convert {\n",
              "      background-color: #E8F0FE;\n",
              "      border: none;\n",
              "      border-radius: 50%;\n",
              "      cursor: pointer;\n",
              "      display: none;\n",
              "      fill: #1967D2;\n",
              "      height: 32px;\n",
              "      padding: 0 0 0 0;\n",
              "      width: 32px;\n",
              "    }\n",
              "\n",
              "    .colab-df-convert:hover {\n",
              "      background-color: #E2EBFA;\n",
              "      box-shadow: 0px 1px 2px rgba(60, 64, 67, 0.3), 0px 1px 3px 1px rgba(60, 64, 67, 0.15);\n",
              "      fill: #174EA6;\n",
              "    }\n",
              "\n",
              "    [theme=dark] .colab-df-convert {\n",
              "      background-color: #3B4455;\n",
              "      fill: #D2E3FC;\n",
              "    }\n",
              "\n",
              "    [theme=dark] .colab-df-convert:hover {\n",
              "      background-color: #434B5C;\n",
              "      box-shadow: 0px 1px 3px 1px rgba(0, 0, 0, 0.15);\n",
              "      filter: drop-shadow(0px 1px 2px rgba(0, 0, 0, 0.3));\n",
              "      fill: #FFFFFF;\n",
              "    }\n",
              "  </style>\n",
              "\n",
              "      <script>\n",
              "        const buttonEl =\n",
              "          document.querySelector('#df-a1d1944e-475d-4e43-aeea-53061a38b93f button.colab-df-convert');\n",
              "        buttonEl.style.display =\n",
              "          google.colab.kernel.accessAllowed ? 'block' : 'none';\n",
              "\n",
              "        async function convertToInteractive(key) {\n",
              "          const element = document.querySelector('#df-a1d1944e-475d-4e43-aeea-53061a38b93f');\n",
              "          const dataTable =\n",
              "            await google.colab.kernel.invokeFunction('convertToInteractive',\n",
              "                                                     [key], {});\n",
              "          if (!dataTable) return;\n",
              "\n",
              "          const docLinkHtml = 'Like what you see? Visit the ' +\n",
              "            '<a target=\"_blank\" href=https://colab.research.google.com/notebooks/data_table.ipynb>data table notebook</a>'\n",
              "            + ' to learn more about interactive tables.';\n",
              "          element.innerHTML = '';\n",
              "          dataTable['output_type'] = 'display_data';\n",
              "          await google.colab.output.renderOutput(dataTable, element);\n",
              "          const docLink = document.createElement('div');\n",
              "          docLink.innerHTML = docLinkHtml;\n",
              "          element.appendChild(docLink);\n",
              "        }\n",
              "      </script>\n",
              "    </div>\n",
              "  </div>\n",
              "  "
            ]
          },
          "metadata": {},
          "execution_count": 103
        }
      ]
    },
    {
      "cell_type": "code",
      "source": [
        "create_artist_ratings(artists, predictions_index, rating_predictions)"
      ],
      "metadata": {
        "colab": {
          "base_uri": "https://localhost:8080/",
          "height": 363
        },
        "id": "htXOEvuXB4vs",
        "outputId": "7092896c-e8b4-4e00-e595-9303743c49dd"
      },
      "execution_count": null,
      "outputs": [
        {
          "output_type": "execute_result",
          "data": {
            "text/plain": [
              "      id            name    rating\n",
              "0   3117       Pete Yorn  0.104792\n",
              "1   6403  The Highwaymen  0.103575\n",
              "2   7547   Los Paranoias  0.103198\n",
              "3  13111          Votchi  0.102901\n",
              "4  13198      Raindancer  0.101285\n",
              "5  13830       Phil Ochs  0.101205\n",
              "6  15742        Nelstar*  0.100503\n",
              "7  16190          Heroin  0.100498\n",
              "8  17805           Huski  0.100484\n",
              "9  18300      Ken Laszlo  0.100358"
            ],
            "text/html": [
              "\n",
              "  <div id=\"df-79b51761-1869-4d8a-8c92-2e5a78ca4a04\">\n",
              "    <div class=\"colab-df-container\">\n",
              "      <div>\n",
              "<style scoped>\n",
              "    .dataframe tbody tr th:only-of-type {\n",
              "        vertical-align: middle;\n",
              "    }\n",
              "\n",
              "    .dataframe tbody tr th {\n",
              "        vertical-align: top;\n",
              "    }\n",
              "\n",
              "    .dataframe thead th {\n",
              "        text-align: right;\n",
              "    }\n",
              "</style>\n",
              "<table border=\"1\" class=\"dataframe\">\n",
              "  <thead>\n",
              "    <tr style=\"text-align: right;\">\n",
              "      <th></th>\n",
              "      <th>id</th>\n",
              "      <th>name</th>\n",
              "      <th>rating</th>\n",
              "    </tr>\n",
              "  </thead>\n",
              "  <tbody>\n",
              "    <tr>\n",
              "      <th>0</th>\n",
              "      <td>3117</td>\n",
              "      <td>Pete Yorn</td>\n",
              "      <td>0.104792</td>\n",
              "    </tr>\n",
              "    <tr>\n",
              "      <th>1</th>\n",
              "      <td>6403</td>\n",
              "      <td>The Highwaymen</td>\n",
              "      <td>0.103575</td>\n",
              "    </tr>\n",
              "    <tr>\n",
              "      <th>2</th>\n",
              "      <td>7547</td>\n",
              "      <td>Los Paranoias</td>\n",
              "      <td>0.103198</td>\n",
              "    </tr>\n",
              "    <tr>\n",
              "      <th>3</th>\n",
              "      <td>13111</td>\n",
              "      <td>Votchi</td>\n",
              "      <td>0.102901</td>\n",
              "    </tr>\n",
              "    <tr>\n",
              "      <th>4</th>\n",
              "      <td>13198</td>\n",
              "      <td>Raindancer</td>\n",
              "      <td>0.101285</td>\n",
              "    </tr>\n",
              "    <tr>\n",
              "      <th>5</th>\n",
              "      <td>13830</td>\n",
              "      <td>Phil Ochs</td>\n",
              "      <td>0.101205</td>\n",
              "    </tr>\n",
              "    <tr>\n",
              "      <th>6</th>\n",
              "      <td>15742</td>\n",
              "      <td>Nelstar*</td>\n",
              "      <td>0.100503</td>\n",
              "    </tr>\n",
              "    <tr>\n",
              "      <th>7</th>\n",
              "      <td>16190</td>\n",
              "      <td>Heroin</td>\n",
              "      <td>0.100498</td>\n",
              "    </tr>\n",
              "    <tr>\n",
              "      <th>8</th>\n",
              "      <td>17805</td>\n",
              "      <td>Huski</td>\n",
              "      <td>0.100484</td>\n",
              "    </tr>\n",
              "    <tr>\n",
              "      <th>9</th>\n",
              "      <td>18300</td>\n",
              "      <td>Ken Laszlo</td>\n",
              "      <td>0.100358</td>\n",
              "    </tr>\n",
              "  </tbody>\n",
              "</table>\n",
              "</div>\n",
              "      <button class=\"colab-df-convert\" onclick=\"convertToInteractive('df-79b51761-1869-4d8a-8c92-2e5a78ca4a04')\"\n",
              "              title=\"Convert this dataframe to an interactive table.\"\n",
              "              style=\"display:none;\">\n",
              "        \n",
              "  <svg xmlns=\"http://www.w3.org/2000/svg\" height=\"24px\"viewBox=\"0 0 24 24\"\n",
              "       width=\"24px\">\n",
              "    <path d=\"M0 0h24v24H0V0z\" fill=\"none\"/>\n",
              "    <path d=\"M18.56 5.44l.94 2.06.94-2.06 2.06-.94-2.06-.94-.94-2.06-.94 2.06-2.06.94zm-11 1L8.5 8.5l.94-2.06 2.06-.94-2.06-.94L8.5 2.5l-.94 2.06-2.06.94zm10 10l.94 2.06.94-2.06 2.06-.94-2.06-.94-.94-2.06-.94 2.06-2.06.94z\"/><path d=\"M17.41 7.96l-1.37-1.37c-.4-.4-.92-.59-1.43-.59-.52 0-1.04.2-1.43.59L10.3 9.45l-7.72 7.72c-.78.78-.78 2.05 0 2.83L4 21.41c.39.39.9.59 1.41.59.51 0 1.02-.2 1.41-.59l7.78-7.78 2.81-2.81c.8-.78.8-2.07 0-2.86zM5.41 20L4 18.59l7.72-7.72 1.47 1.35L5.41 20z\"/>\n",
              "  </svg>\n",
              "      </button>\n",
              "      \n",
              "  <style>\n",
              "    .colab-df-container {\n",
              "      display:flex;\n",
              "      flex-wrap:wrap;\n",
              "      gap: 12px;\n",
              "    }\n",
              "\n",
              "    .colab-df-convert {\n",
              "      background-color: #E8F0FE;\n",
              "      border: none;\n",
              "      border-radius: 50%;\n",
              "      cursor: pointer;\n",
              "      display: none;\n",
              "      fill: #1967D2;\n",
              "      height: 32px;\n",
              "      padding: 0 0 0 0;\n",
              "      width: 32px;\n",
              "    }\n",
              "\n",
              "    .colab-df-convert:hover {\n",
              "      background-color: #E2EBFA;\n",
              "      box-shadow: 0px 1px 2px rgba(60, 64, 67, 0.3), 0px 1px 3px 1px rgba(60, 64, 67, 0.15);\n",
              "      fill: #174EA6;\n",
              "    }\n",
              "\n",
              "    [theme=dark] .colab-df-convert {\n",
              "      background-color: #3B4455;\n",
              "      fill: #D2E3FC;\n",
              "    }\n",
              "\n",
              "    [theme=dark] .colab-df-convert:hover {\n",
              "      background-color: #434B5C;\n",
              "      box-shadow: 0px 1px 3px 1px rgba(0, 0, 0, 0.15);\n",
              "      filter: drop-shadow(0px 1px 2px rgba(0, 0, 0, 0.3));\n",
              "      fill: #FFFFFF;\n",
              "    }\n",
              "  </style>\n",
              "\n",
              "      <script>\n",
              "        const buttonEl =\n",
              "          document.querySelector('#df-79b51761-1869-4d8a-8c92-2e5a78ca4a04 button.colab-df-convert');\n",
              "        buttonEl.style.display =\n",
              "          google.colab.kernel.accessAllowed ? 'block' : 'none';\n",
              "\n",
              "        async function convertToInteractive(key) {\n",
              "          const element = document.querySelector('#df-79b51761-1869-4d8a-8c92-2e5a78ca4a04');\n",
              "          const dataTable =\n",
              "            await google.colab.kernel.invokeFunction('convertToInteractive',\n",
              "                                                     [key], {});\n",
              "          if (!dataTable) return;\n",
              "\n",
              "          const docLinkHtml = 'Like what you see? Visit the ' +\n",
              "            '<a target=\"_blank\" href=https://colab.research.google.com/notebooks/data_table.ipynb>data table notebook</a>'\n",
              "            + ' to learn more about interactive tables.';\n",
              "          element.innerHTML = '';\n",
              "          dataTable['output_type'] = 'display_data';\n",
              "          await google.colab.output.renderOutput(dataTable, element);\n",
              "          const docLink = document.createElement('div');\n",
              "          docLink.innerHTML = docLinkHtml;\n",
              "          element.appendChild(docLink);\n",
              "        }\n",
              "      </script>\n",
              "    </div>\n",
              "  </div>\n",
              "  "
            ]
          },
          "metadata": {},
          "execution_count": 104
        }
      ]
    },
    {
      "cell_type": "code",
      "source": [
        ""
      ],
      "metadata": {
        "id": "fQ79c8KjE84v"
      },
      "execution_count": null,
      "outputs": []
    }
  ]
}